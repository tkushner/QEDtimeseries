{
 "cells": [
  {
   "cell_type": "markdown",
   "metadata": {},
   "source": [
    "# QED Supergroup: Time Series Analysis with Python\n",
    "### Taisa Kushner -- taisa.kushner(at)colorado(dot)edu\n",
    "### March 2, 2020\n",
    "\n",
    "If you'd like to follow along: \n",
    "- Go to https://nbviewer.jupyter.org/\n",
    "- Type in https://github.com/tkushner/QEDtimeseries/blob/master/QEDsupergroup_timeseries.ipynb\n",
    "\n"
   ]
  },
  {
   "cell_type": "markdown",
   "metadata": {},
   "source": [
    "## 0.0 Python & Jupyter\n",
    "\n",
    "We will be using Python3. You should already have this installed.\n",
    "\n",
    "If you'd like a nice, thorough introduction to Python, [please see this (free!) book](http://greenteapress.com/thinkpython2/thinkpython2.pdf)\n",
    "\n",
    "### Let's first take a look at the editor \"Jupyter Notebook\" that we are using today.\n",
    "\n",
    "The Jupyter Notebook:\n",
    "\n",
    "- An open source web application\n",
    "- To create and share documents that contain live code, equations, visualizations, and text\n",
    "- Ships with the IPython kernel, supports over 100 other kernels (R, Julia, etc.)\n",
    "\n",
    "Running Cells:\n",
    "\n",
    "- A Notebook’s cell defaults to using code whenever you first create one\n",
    "- Uses the kernel that you chose when you started your Notebook\n",
    "- Started with Python 3 as kernel, one can write Python code in the code cells\n",
    "- To execute a cell, you can just select the cell and click the Run button (keyboard press Shift+Enter)\n",
    "- The primary cell types are the Code and Markdown cell types\n",
    "\n",
    "Useful References:\n",
    "\n",
    "- [Jupyter Cheatsheet](https://www.edureka.co/blog/wp-content/uploads/2018/10/Jupyter_Notebook_CheatSheet_Edureka.pdf)\n",
    "- [Python Cheatsheet](https://perso.limsi.fr/pointal/_media/python:cours:mementopython3-english.pdf)\n",
    "- [Markdown Cheatsheet](https://github.com/adam-p/markdown-here/wiki/Markdown-Cheatsheet)\n",
    "- [Pandas Cheatsheet](https://assets.datacamp.com/blog_assets/PandasPythonForDataScience.pdf)\n",
    "\n",
    "\n",
    "\n"
   ]
  },
  {
   "cell_type": "markdown",
   "metadata": {},
   "source": [
    "## 1.0 Data management with Pandas\n",
    "\n",
    "Pandas is the open-source (under a [BSD license](https://opensource.org/licenses/BSD-2-Clause)) “Python data analysis library”, which has data structures and analysis tools geared towards analysis of numerical tables and time series. Within the world of data science, pandas is one of the most highly utilized tools due to how powerful and easy to work with the main data structure (the pandas datafame) is, especially compared to lists and dictionaries when your data comes in the form of a file (.csv, .txt, .tsv, etc). Additionally, pandas allows you to work on data sets without impacting database resources which is important if you have large data sets - more on this & related ramifications later. \n",
    "\n",
    "A note: you will find online that Pandas is designed to “fill this gap (in analysis and modeling), enabling you to carry out your entire data analysis workflow in Python”. In actuality, pandas is best suited for data analysis (preparation, cleaning, etc) rather than modeling, as the modeling capabilities are limited to linear and panel regression. Modules such as [numpy](https://numpy.org/), [scipy](https://www.scipy.org/), [statsmodels](https://www.statsmodels.org/stable/index.html) and [scikit-learn](https://scikit-learn.org/stable/), as well as software such as [Matlab](https://www.mathworks.com/solutions/mathematical-modeling.html) are better options for modeling.\n",
    "\n",
    "### Installation\n",
    "You can use either conda or pip to install pandas from the command line.\n",
    "\n",
    "`conda install pandas`\n",
    "\n",
    "Pandas depends on numpy, so when we begin our python script we need to import both numpy and pandas. It is customary to import pandas with the abbreviation “pd”:\n"
   ]
  },
  {
   "cell_type": "code",
   "execution_count": 2,
   "metadata": {},
   "outputs": [],
   "source": [
    "import numpy as np\n",
    "import pandas as pd "
   ]
  },
  {
   "cell_type": "markdown",
   "metadata": {},
   "source": [
    "### Data Structures\n",
    "Pandas derives its name from “PANel DAta”. Within pandas, there are three main data structures the Series, DataFrame and Panel which build on one another with increasing levels of complexity. The best way to think about these is that the basic type is Series. A DataFrame is a container for multiple Series objects, and a Panel is a container for multiple DataFrame objects. \n",
    "\n",
    "Additionally there are experimental test bed structures Panel4D (and PanelND) which are similar to Panel except have higher dimensions. As the name implies, Panel4D has 4 named dimensions instead of 3, and PanelND is a module that allows you to construct N-dimensional named containers with custom axis labels. This is likely overkill for most of your projects, so we will not be covering these, [but you can read about them here](https://pandas.pydata.org/pandas-docs/version/0.17.0/dsintro.html#panel4d-experimental).\n",
    "\n",
    "### Data alignment (VERY IMPORTANT)\n",
    "Data alignment is intrinsic in all pandas data structures.\n",
    "\n",
    "#### What does this mean?\n",
    "##### Data is labeled & labels persist: \n",
    "When you work with pandas data objects (series, dataframes, panels) each piece of data has a label (or multiple labels) associated with it and the links between labels and data persist through all operations and will not be broken unless done so explicitly by you. This part is similar to key-value pairs in dictionaries, but you can have many keys to each value, and the keys have varying levels of importance.\n",
    "\n",
    "##### Data structures are aligned on these labels, not traditional indexes: \n",
    "The intrinsic alignment means that when you perform operations on/between multiple data frames, they get aligned and operated on by labels (called indexes), rather than a traditional location indexes. This is very useful, but can cause large problems if you do not understand how this works. We will discuss this in detail for each data type & operation, but you can think of this as follows: operations occur label-wise, not location-wise.\n",
    "\n",
    "Example:\n",
    "![Example 1](label_fig2.png)\n",
    "\n",
    "Why did the pear and grapefruit values drop to NaN?\n",
    "Operations on dataframes occur on lables (the fruit names), which is a bit like a dictionary, and a bit like parallel arrays. Operations occur index-wise, not location-wise, usually on intersections. You can note from this basic example, it can be unintuitive and should be watched. \n",
    "\n",
    "##### Data Mutability\n",
    "All data types in pandas are value-mutable, meaning you can change values. However, they are not always size-mutable. Series have set sizes, while DataFrames can have columns added to them. However, most methods produce new objects, which leave the original data untouched so you are able to easily add items to a series and return a new longer series, or subtract items and make it shorter.\n",
    "\n",
    "##### Series\n",
    "The `series` is a one-dimensional labeled array which can hold any data type (integer, string, float, python objects, etc.) Data in the series has labels, similar to a dictionary.  Collectively, axis labels are referred to as the index.\n",
    "\n",
    "You can create a series from scalar values, lists, numpy ndarrays, or python dictionaries. \n",
    "Unlike a list, all items in a series must be of the same type (int, float, object, etc). \n",
    "The basic way to initialize a series is as follows:\n",
    "`s = Series(data, index=index, [dtype = type, copy = False])`\n",
    "\n",
    "The parameters dtype and copy are always optional and refer to the data type and if the values should be copied (this is only important when you are creating a series from another series). \n",
    "\n",
    "The default type will be inferred from the data, but you can set this in the constructor or change it later using the `Series.astype(self, dtype)`. Types include int, str, object, float, etc.\n",
    "\n",
    "If you initialize from a list or ndarray object, you need to supply index values which are the same length as the data. If no index is supplied, the index will simply number your data as `[0, 1, ..., len(data)-1]`\n"
   ]
  },
  {
   "cell_type": "code",
   "execution_count": 2,
   "metadata": {},
   "outputs": [
    {
     "name": "stdout",
     "output_type": "stream",
     "text": [
      "gene1    12\n",
      "gene2    14\n",
      "gene3    84\n",
      "dtype: int64\n",
      "------------\n",
      "0    12\n",
      "1    14\n",
      "2    84\n",
      "dtype: int64\n"
     ]
    }
   ],
   "source": [
    "dataArray = np.array([12,14,84])\n",
    "dataList = [12,14,84]\n",
    "idx = ['gene1','gene2','gene3']\n",
    "\n",
    "s1 = pd.Series(dataList, index=idx)\n",
    "s2 = pd.Series(dataList)\n",
    "\n",
    "print(s1)\n",
    "print('------------')\n",
    "print(s2)"
   ]
  },
  {
   "cell_type": "markdown",
   "metadata": {},
   "source": [
    "If you initialize from a dictionary, the key value pairs become the index value pairs. You can also pull just certain values from a dictionary by providing the keys of the desired values in the index parameter."
   ]
  },
  {
   "cell_type": "code",
   "execution_count": 3,
   "metadata": {},
   "outputs": [],
   "source": [
    "dataDict = {'gene1': 12, 'gene2': 14, 'gene3': 84}\n",
    "s = pd.Series(dataDict, index = ['gene2', 'gene3'])\n"
   ]
  },
  {
   "cell_type": "code",
   "execution_count": 4,
   "metadata": {},
   "outputs": [
    {
     "name": "stdout",
     "output_type": "stream",
     "text": [
      "{'gene1': 12, 'gene2': 14, 'gene3': 84}\n"
     ]
    }
   ],
   "source": [
    "print(dataDict)"
   ]
  },
  {
   "cell_type": "code",
   "execution_count": 5,
   "metadata": {},
   "outputs": [
    {
     "name": "stdout",
     "output_type": "stream",
     "text": [
      "gene2    14\n",
      "gene3    84\n",
      "dtype: int64\n"
     ]
    }
   ],
   "source": [
    "print(s)"
   ]
  },
  {
   "cell_type": "markdown",
   "metadata": {},
   "source": [
    "You can also initialize a series from a single value. Index is required, and the value will be repeated to match the length of index\n"
   ]
  },
  {
   "cell_type": "code",
   "execution_count": 6,
   "metadata": {},
   "outputs": [
    {
     "name": "stdout",
     "output_type": "stream",
     "text": [
      "gene1    4\n",
      "gene2    4\n",
      "gene3    4\n",
      "dtype: int64\n"
     ]
    }
   ],
   "source": [
    "s = pd.Series(4, index=idx)\n",
    "print(s)"
   ]
  },
  {
   "cell_type": "markdown",
   "metadata": {},
   "source": [
    "#### Slicing and Indexing\n",
    "The pandas series acts similar to both the ndarray and the dict objects. You can slice the series similar to lists and ndarray objects, using the integer value of the location as your index key (0, 1, 2, etc). But recall that we have data alignment which means slicing will also slice the index. \n"
   ]
  },
  {
   "cell_type": "code",
   "execution_count": 7,
   "metadata": {},
   "outputs": [
    {
     "data": {
      "text/plain": [
       "gene1    12\n",
       "gene2    14\n",
       "gene3    84\n",
       "dtype: int64"
      ]
     },
     "execution_count": 7,
     "metadata": {},
     "output_type": "execute_result"
    }
   ],
   "source": [
    "s1"
   ]
  },
  {
   "cell_type": "code",
   "execution_count": 8,
   "metadata": {},
   "outputs": [
    {
     "data": {
      "text/plain": [
       "gene1    12\n",
       "gene2    14\n",
       "dtype: int64"
      ]
     },
     "execution_count": 8,
     "metadata": {},
     "output_type": "execute_result"
    }
   ],
   "source": [
    "s1[:2]"
   ]
  },
  {
   "cell_type": "code",
   "execution_count": 9,
   "metadata": {},
   "outputs": [
    {
     "data": {
      "text/plain": [
       "gene3    84\n",
       "dtype: int64"
      ]
     },
     "execution_count": 9,
     "metadata": {},
     "output_type": "execute_result"
    }
   ],
   "source": [
    "s1[2:]"
   ]
  },
  {
   "cell_type": "code",
   "execution_count": 10,
   "metadata": {},
   "outputs": [
    {
     "data": {
      "text/plain": [
       "gene1    12\n",
       "gene3    84\n",
       "gene2    14\n",
       "dtype: int64"
      ]
     },
     "execution_count": 10,
     "metadata": {},
     "output_type": "execute_result"
    }
   ],
   "source": [
    "s1[[0,2,1]]"
   ]
  },
  {
   "cell_type": "markdown",
   "metadata": {},
   "source": [
    "Additionally, you can index like a dictionary, using the index value.\n"
   ]
  },
  {
   "cell_type": "code",
   "execution_count": 11,
   "metadata": {},
   "outputs": [
    {
     "data": {
      "text/plain": [
       "14"
      ]
     },
     "execution_count": 11,
     "metadata": {},
     "output_type": "execute_result"
    }
   ],
   "source": [
    "s1['gene2']"
   ]
  },
  {
   "cell_type": "markdown",
   "metadata": {},
   "source": [
    "The boolean operator in works similar to dictionaries as well."
   ]
  },
  {
   "cell_type": "code",
   "execution_count": 12,
   "metadata": {},
   "outputs": [
    {
     "data": {
      "text/plain": [
       "True"
      ]
     },
     "execution_count": 12,
     "metadata": {},
     "output_type": "execute_result"
    }
   ],
   "source": [
    "'gene2' in s1"
   ]
  },
  {
   "cell_type": "code",
   "execution_count": 13,
   "metadata": {},
   "outputs": [
    {
     "data": {
      "text/plain": [
       "False"
      ]
     },
     "execution_count": 13,
     "metadata": {},
     "output_type": "execute_result"
    }
   ],
   "source": [
    "'gene5' in s1"
   ]
  },
  {
   "cell_type": "markdown",
   "metadata": {},
   "source": [
    "Multiple other indexing options exist as well. Find details here.\n",
    "\n",
    "| Function     | what it does |\n",
    "| ------------- |:-------------:| \n",
    "| Series.get(self,key)      | returns the value| \n",
    "| Series.at[]|access single value at a time|\n",
    "| Series.loc[]| can access multiple rows at once |\n",
    "| Series.iloc[]| access with numerical index |\n",
    "| Series.keys(self)| returns the keys (indexes) |\n",
    "| Series.items(self)| lazily iterate over the (index,value) tuples (returns a zip object|\n",
    "| Series.pop(self,item)| returns and drops from series |\n",
    "| Series.item(self)| return first element as python scalar|\n",
    "\n",
    "\n"
   ]
  },
  {
   "cell_type": "markdown",
   "metadata": {},
   "source": [
    "In addition, we can slice based on conditions. For example, suppose I have a large series and I want all the places where it is equal to a certain value:"
   ]
  },
  {
   "cell_type": "code",
   "execution_count": 14,
   "metadata": {},
   "outputs": [
    {
     "data": {
      "text/plain": [
       "gene1    12\n",
       "gene2    14\n",
       "gene3    84\n",
       "dtype: int64"
      ]
     },
     "execution_count": 14,
     "metadata": {},
     "output_type": "execute_result"
    }
   ],
   "source": [
    "s1"
   ]
  },
  {
   "cell_type": "code",
   "execution_count": 15,
   "metadata": {},
   "outputs": [
    {
     "data": {
      "text/plain": [
       "gene2    14\n",
       "dtype: int64"
      ]
     },
     "execution_count": 15,
     "metadata": {},
     "output_type": "execute_result"
    }
   ],
   "source": [
    "s1[s1==14]"
   ]
  },
  {
   "cell_type": "markdown",
   "metadata": {},
   "source": [
    "We can grow the series..."
   ]
  },
  {
   "cell_type": "code",
   "execution_count": 16,
   "metadata": {},
   "outputs": [
    {
     "data": {
      "text/plain": [
       "gene1    12\n",
       "gene2    14\n",
       "gene3    84\n",
       "gene4    12\n",
       "gene5    14\n",
       "gene6    84\n",
       "dtype: int64"
      ]
     },
     "execution_count": 16,
     "metadata": {},
     "output_type": "execute_result"
    }
   ],
   "source": [
    "s3 = pd.Series(dataList, index=['gene4','gene5','gene6'])\n",
    "s1.append(s3)"
   ]
  },
  {
   "cell_type": "markdown",
   "metadata": {},
   "source": [
    "But notice that the series s1 actually remanined unchanged..."
   ]
  },
  {
   "cell_type": "code",
   "execution_count": 17,
   "metadata": {},
   "outputs": [
    {
     "name": "stdout",
     "output_type": "stream",
     "text": [
      "gene1    12\n",
      "gene2    14\n",
      "gene3    84\n",
      "dtype: int64\n"
     ]
    }
   ],
   "source": [
    "print(s1)"
   ]
  },
  {
   "cell_type": "markdown",
   "metadata": {},
   "source": [
    "This is because Series are length immutable, it created a copy and we need to save this copy if we want to keep it around:"
   ]
  },
  {
   "cell_type": "code",
   "execution_count": 18,
   "metadata": {},
   "outputs": [
    {
     "name": "stdout",
     "output_type": "stream",
     "text": [
      "gene1    12\n",
      "gene2    14\n",
      "gene3    84\n",
      "gene4    12\n",
      "gene5    14\n",
      "gene6    84\n",
      "dtype: int64\n"
     ]
    }
   ],
   "source": [
    "s1 = s1.append(s3)\n",
    "print(s1)"
   ]
  },
  {
   "cell_type": "markdown",
   "metadata": {},
   "source": [
    "## 1.1 Importing from files\n",
    "Pandas is built for importing data from files, directly to a dataframe. In this example we will import from csv files, but pandas easily handles a variety of file types (pickled data, excel sheets, json, html, feather-formatted objects, sas, sql, etc.) and even lets you import from text you copied to the clipboard! All the input functions have essentially the same format, you can [find them listed here](https://pandas.pydata.org/pandas-docs/stable/reference/io.html)\n",
    "\n",
    "We will use the `pd.read_csv()` function to import data. \n",
    "\n",
    "The `pd.read_csv()` function has about [50 optional parameters](https://pandas.pydata.org/pandas-docs/stable/reference/api/pandas.read_csv.html#pandas.read_csv) which allow you to import part of the file, skip certain rows, specify different types for different columns, etc. The most often used parameters are:\n",
    "\n",
    "| Parameter     | What it does |\n",
    "|:--------------------:|:-------------------------------------------------------------:|\n",
    "| filepath_or_buffer | Where your data is coming from. Can be any valid string path, including URLs (ftp, http, s3, files)                                                   |\n",
    "| sep (delimiter)    | Delimiter, defaults to commas. The python parsing engine is used to detect delimiters (csv.Sniffer)                                                   |\n",
    "| header             | Integer or list of ints. Row numbers to use as column names and the start of the data. Default is to infer column names from first line of the file.  |\n",
    "|                    | If you want to replace existing names, you must pass header=0.                                                                                        |\n",
    "|                    | Pass header=None if no header row                                                                                                                     |\n",
    "| names              | Array-like. List of column names to use (eg if you pass header=0). No duplicates allowed.                                                             |\n",
    "| squeeze            | Boolean (default False). You can use this if your data is a single column and you want to import as a Series instead of DataFrame                     |\n",
    "| dtype              | Requires name followed by type, in string format eg {‘column1’: np.float32, ‘column2’:’Int64’}                                                        |\n",
    "| nrows              | Integer. Read in only the first N rows    |                      \n",
    "\n",
    "\n",
    "\n",
    "### Looking at the data\n",
    "Dataframes have many useful attributes, here are some basics that are often used\n",
    "\n",
    "| Attribute     | What it does |\n",
    "|:--------------------:|:-------------------------------------------------------------:|\n",
    "| DataFrame.index                                 | Returns the row labels (index) as a pandas Index object (an immutable ndarray implementing an ordered, sliceable set)    |                                                                                                   \n",
    "| DataFrame.columns                               | Returns column labels as Index object                                                                                                                                                                                       |\n",
    "| DataFrame.dtypes                                | Returns a series with the data type of each column                                                                                                                                                                          |\n",
    "| DataFrame.select_dtypes(self,[include,exclude]) | Returns a subset of the columns based on column dtypes (requires at least 1 include or exclude)                                                                                                                             |\n",
    "| DataFrame.size                                  | Returns an int of the total number of elements in the object                                                                                                                                                                |\n",
    "| DataFrame.shape                                 | Returns a tuple of the dimensions (rows, columns)                                                                                                                                                                           |\n",
    "| DataFrame.empty                                 | Boolean, indicates if empty                                                                                                                                                                                                 |\n",
    "| DataFrame.memory_useage(self, [index, deep])    | Returns the memory use of each column in bytes. If deep then it will recurse through the objects for system-level memory consumption. The Index parameter is a boolean saying “should the index be counted in memory usage” |\n",
    "| DataFrame.sum(axis,[options])                   | Returns the sum (as series or DataFrame) of the values along the requested axis (axis=0 to sum down the columns (along index), or axis=1 to sum across rows) |                                                             \n",
    "|                     -                        | skipna - exclude NA/null values    |                                                                                                                                                                                         |\n",
    "|                      -                           | level - if axis is multiindex, count along a particular level   |                                                                                                                                                            |\n",
    "|                      -                           | numeric_only - only include float, int, boolean columns |                                                                                                                                                                    |\n",
    "|DataFrame.sum(axis,[options])                     | min_count - set min values required to compute, else NA   |                                                                                                                                                                  \n",
    "\n",
    "\n",
    "Note there is a `DataFrame.ndim` attribute. This DOES NOT tell you how many columns / rows are in your dataframe. It tells you the dimensions, which is 1 for Series, or 2 for DataFrames."
   ]
  },
  {
   "cell_type": "code",
   "execution_count": 3,
   "metadata": {},
   "outputs": [
    {
     "data": {
      "text/html": [
       "<div>\n",
       "<style scoped>\n",
       "    .dataframe tbody tr th:only-of-type {\n",
       "        vertical-align: middle;\n",
       "    }\n",
       "\n",
       "    .dataframe tbody tr th {\n",
       "        vertical-align: top;\n",
       "    }\n",
       "\n",
       "    .dataframe thead th {\n",
       "        text-align: right;\n",
       "    }\n",
       "</style>\n",
       "<table border=\"1\" class=\"dataframe\">\n",
       "  <thead>\n",
       "    <tr style=\"text-align: right;\">\n",
       "      <th></th>\n",
       "      <th>date</th>\n",
       "      <th>maxTemp</th>\n",
       "      <th>minTemp</th>\n",
       "      <th>Unnamed: 3</th>\n",
       "      <th>Unnamed: 4</th>\n",
       "    </tr>\n",
       "  </thead>\n",
       "  <tbody>\n",
       "    <tr>\n",
       "      <th>0</th>\n",
       "      <td>1980/1/2</td>\n",
       "      <td>42</td>\n",
       "      <td>29</td>\n",
       "      <td>NaN</td>\n",
       "      <td>NaN</td>\n",
       "    </tr>\n",
       "    <tr>\n",
       "      <th>1</th>\n",
       "      <td>1980/1/3</td>\n",
       "      <td>43</td>\n",
       "      <td>14</td>\n",
       "      <td>NaN</td>\n",
       "      <td>NaN</td>\n",
       "    </tr>\n",
       "    <tr>\n",
       "      <th>2</th>\n",
       "      <td>1980/1/4</td>\n",
       "      <td>43</td>\n",
       "      <td>31</td>\n",
       "      <td>NaN</td>\n",
       "      <td>NaN</td>\n",
       "    </tr>\n",
       "    <tr>\n",
       "      <th>3</th>\n",
       "      <td>1980/1/5</td>\n",
       "      <td>57</td>\n",
       "      <td>25</td>\n",
       "      <td>s</td>\n",
       "      <td>NaN</td>\n",
       "    </tr>\n",
       "    <tr>\n",
       "      <th>4</th>\n",
       "      <td>1980/1/6</td>\n",
       "      <td>57</td>\n",
       "      <td>23</td>\n",
       "      <td>NaN</td>\n",
       "      <td>NaN</td>\n",
       "    </tr>\n",
       "  </tbody>\n",
       "</table>\n",
       "</div>"
      ],
      "text/plain": [
       "       date  maxTemp  minTemp Unnamed: 3 Unnamed: 4\n",
       "0  1980/1/2       42       29        NaN        NaN\n",
       "1  1980/1/3       43       14        NaN        NaN\n",
       "2  1980/1/4       43       31        NaN        NaN\n",
       "3  1980/1/5       57       25          s        NaN\n",
       "4  1980/1/6       57       23        NaN        NaN"
      ]
     },
     "execution_count": 3,
     "metadata": {},
     "output_type": "execute_result"
    }
   ],
   "source": [
    "data = pd.read_csv('tempData_small.csv')\n",
    "data.head()\n"
   ]
  },
  {
   "cell_type": "markdown",
   "metadata": {},
   "source": [
    "Dataframes are just like series, so we can index similarly:\n",
    "\n",
    "| Attribute     | What it does |\n",
    "|:--------------------:|:-------------------------------------------------------------:|\n",
    "| DataFrame.at[index,column]  | Access a single value for a row/column label pair   |                                 \n",
    "| DataFrame.iat[index,column] | Access values with integer positions                 |\n",
    "| DataFrame.loc[]             | Access based on a single column label, or group of column labels. Or also row labels |\n",
    "| DataFrame.iloc[]            | Purely integer based selection|\n",
    "\n",
    "\n",
    "\n"
   ]
  },
  {
   "cell_type": "code",
   "execution_count": 20,
   "metadata": {},
   "outputs": [
    {
     "data": {
      "text/plain": [
       "25"
      ]
     },
     "execution_count": 20,
     "metadata": {},
     "output_type": "execute_result"
    }
   ],
   "source": [
    "data.loc[3].at['minTemp']"
   ]
  },
  {
   "cell_type": "markdown",
   "metadata": {},
   "source": [
    "We want to make the date the index, and remove the columns labeled `Unnamed:`"
   ]
  },
  {
   "cell_type": "code",
   "execution_count": 21,
   "metadata": {},
   "outputs": [
    {
     "data": {
      "text/html": [
       "<div>\n",
       "<style scoped>\n",
       "    .dataframe tbody tr th:only-of-type {\n",
       "        vertical-align: middle;\n",
       "    }\n",
       "\n",
       "    .dataframe tbody tr th {\n",
       "        vertical-align: top;\n",
       "    }\n",
       "\n",
       "    .dataframe thead th {\n",
       "        text-align: right;\n",
       "    }\n",
       "</style>\n",
       "<table border=\"1\" class=\"dataframe\">\n",
       "  <thead>\n",
       "    <tr style=\"text-align: right;\">\n",
       "      <th></th>\n",
       "      <th>date</th>\n",
       "      <th>maxTemp</th>\n",
       "      <th>minTemp</th>\n",
       "    </tr>\n",
       "  </thead>\n",
       "  <tbody>\n",
       "    <tr>\n",
       "      <th>0</th>\n",
       "      <td>1980/1/2</td>\n",
       "      <td>42</td>\n",
       "      <td>29</td>\n",
       "    </tr>\n",
       "    <tr>\n",
       "      <th>1</th>\n",
       "      <td>1980/1/3</td>\n",
       "      <td>43</td>\n",
       "      <td>14</td>\n",
       "    </tr>\n",
       "    <tr>\n",
       "      <th>2</th>\n",
       "      <td>1980/1/4</td>\n",
       "      <td>43</td>\n",
       "      <td>31</td>\n",
       "    </tr>\n",
       "    <tr>\n",
       "      <th>3</th>\n",
       "      <td>1980/1/5</td>\n",
       "      <td>57</td>\n",
       "      <td>25</td>\n",
       "    </tr>\n",
       "    <tr>\n",
       "      <th>4</th>\n",
       "      <td>1980/1/6</td>\n",
       "      <td>57</td>\n",
       "      <td>23</td>\n",
       "    </tr>\n",
       "  </tbody>\n",
       "</table>\n",
       "</div>"
      ],
      "text/plain": [
       "       date  maxTemp  minTemp\n",
       "0  1980/1/2       42       29\n",
       "1  1980/1/3       43       14\n",
       "2  1980/1/4       43       31\n",
       "3  1980/1/5       57       25\n",
       "4  1980/1/6       57       23"
      ]
     },
     "execution_count": 21,
     "metadata": {},
     "output_type": "execute_result"
    }
   ],
   "source": [
    "dataClean = data.loc[:, ~data.columns.str.contains('^Unnamed')]\n",
    "dataClean.head()"
   ]
  },
  {
   "cell_type": "markdown",
   "metadata": {},
   "source": [
    "Lets check the data type, and convert to datetime objects"
   ]
  },
  {
   "cell_type": "code",
   "execution_count": 22,
   "metadata": {},
   "outputs": [
    {
     "name": "stdout",
     "output_type": "stream",
     "text": [
      "<class 'pandas.core.frame.DataFrame'>\n",
      "RangeIndex: 3668 entries, 0 to 3667\n",
      "Data columns (total 3 columns):\n",
      "date       3668 non-null object\n",
      "maxTemp    3668 non-null int64\n",
      "minTemp    3668 non-null int64\n",
      "dtypes: int64(2), object(1)\n",
      "memory usage: 86.0+ KB\n"
     ]
    }
   ],
   "source": [
    "dataClean.info()"
   ]
  },
  {
   "cell_type": "markdown",
   "metadata": {},
   "source": [
    "## 1.2 Copying and Slicing\n",
    "Pandas is excellent for large data sets as it allows you to work with data without impacting database resources. This means you can pull out subsections of your data to work with without having to use lots of extra memory creating new objects (if you are familiar with languages such as C++, pandas uses lots of references / pointers), but this means you need to pay careful attention to how you slice, copy, and work with data, especially when you want to manipulate (add, remove, clean, etc.) values on copies of the data.\n",
    "\n",
    "### References\n",
    "In order to save memory, the standard assignment assignment (=) in pandas creates references (pointers) to the original data and indexes, rather than copying all the data and indexes.  What is a reference? A reference means we are storing where the original item lives in memory, rather than the original item.\n",
    "\n",
    "Example:\n",
    "![Example 2](copyvref.png)\n",
    "\n",
    "In this diagram, the numbers on the side of the data structure are where that object lives in memory. Note that the data reference just lists the location of where the original object lives, whereas the copy replicates the values and keys to a new location.\n",
    "\n",
    "It takes much less space to store just the location of where an object lives rather than all the data inside that object, but it also means that actions such as altering data in the reference object affect the original object as well so you must be mindful of when the assignment operator creates a reference versus a new object. \n",
    "\n",
    "### The Assignment Operator =\n",
    "This operator will create a new object that is a pointer to your original data. Altering values in this object actually alters the original data.  Notice how if we create a slice of the original series, s, called m, and we alter a value inside m, the value in s is altered as well.\n",
    "\n",
    "\n",
    "If you want to create a true “copy” you will need to perform a deep copy. This is done with the `Series.copy(self, [deep=True])` operator. The default is to create a deep copy meaning that first a new series object is created, then the values and indexes are copied in full. You can also perform Series.copy(deep=False) which will create a shallow copy. In practice, this will act the same as the assignment operator (=). However, rather than just creating a pointer to the original object, the shallow copy creates another object, then populates the fields inside the object with pointers to the original fields (values, indexes). \n",
    "\n",
    "If you are ever confused about the location in memory where an object is stored, you can use the function `id(item)`\n"
   ]
  },
  {
   "cell_type": "code",
   "execution_count": 163,
   "metadata": {},
   "outputs": [
    {
     "name": "stdout",
     "output_type": "stream",
     "text": [
      "---ID location for the original---\n",
      "4723746408\n",
      "---ID location for a shallow copy---\n",
      "4723746408\n",
      "112185743712\n",
      "112185743712\n",
      "---ID location for the deep copy---\n",
      "121027691520\n"
     ]
    }
   ],
   "source": [
    "print('---ID location for the original---')\n",
    "print(id(dataClean))\n",
    "\n",
    "print('---ID location for a shallow copy, matches the original at each location---')\n",
    "shallowCopy = dataClean\n",
    "print(id(shallowCopy))\n",
    "\n",
    "print(id(dataClean.maxTemp[1]))\n",
    "print(id(shallowCopy.maxTemp[1]))\n",
    "\n",
    "print('---ID location for the deep copy---')\n",
    "dataCopy = dataClean.copy()\n",
    "print(id(dataCopy))\n",
    "\n"
   ]
  },
  {
   "cell_type": "markdown",
   "metadata": {},
   "source": [
    "Hence, when we are re-setting values, you want to use the assign operator, rather than the standard assignment operator (\"=\"). "
   ]
  },
  {
   "cell_type": "code",
   "execution_count": 23,
   "metadata": {},
   "outputs": [
    {
     "name": "stderr",
     "output_type": "stream",
     "text": [
      "/Users/taisakushner/anaconda3/lib/python3.6/site-packages/pandas/core/generic.py:4405: SettingWithCopyWarning: \n",
      "A value is trying to be set on a copy of a slice from a DataFrame.\n",
      "Try using .loc[row_indexer,col_indexer] = value instead\n",
      "\n",
      "See the caveats in the documentation: http://pandas.pydata.org/pandas-docs/stable/indexing.html#indexing-view-versus-copy\n",
      "  self[name] = value\n"
     ]
    }
   ],
   "source": [
    "dataClean.date=pd.to_datetime(dataClean.date).values"
   ]
  },
  {
   "cell_type": "code",
   "execution_count": 24,
   "metadata": {},
   "outputs": [
    {
     "data": {
      "text/html": [
       "<div>\n",
       "<style scoped>\n",
       "    .dataframe tbody tr th:only-of-type {\n",
       "        vertical-align: middle;\n",
       "    }\n",
       "\n",
       "    .dataframe tbody tr th {\n",
       "        vertical-align: top;\n",
       "    }\n",
       "\n",
       "    .dataframe thead th {\n",
       "        text-align: right;\n",
       "    }\n",
       "</style>\n",
       "<table border=\"1\" class=\"dataframe\">\n",
       "  <thead>\n",
       "    <tr style=\"text-align: right;\">\n",
       "      <th></th>\n",
       "      <th>date</th>\n",
       "      <th>maxTemp</th>\n",
       "      <th>minTemp</th>\n",
       "    </tr>\n",
       "  </thead>\n",
       "  <tbody>\n",
       "    <tr>\n",
       "      <th>0</th>\n",
       "      <td>1980-01-02</td>\n",
       "      <td>42</td>\n",
       "      <td>29</td>\n",
       "    </tr>\n",
       "    <tr>\n",
       "      <th>1</th>\n",
       "      <td>1980-01-03</td>\n",
       "      <td>43</td>\n",
       "      <td>14</td>\n",
       "    </tr>\n",
       "    <tr>\n",
       "      <th>2</th>\n",
       "      <td>1980-01-04</td>\n",
       "      <td>43</td>\n",
       "      <td>31</td>\n",
       "    </tr>\n",
       "    <tr>\n",
       "      <th>3</th>\n",
       "      <td>1980-01-05</td>\n",
       "      <td>57</td>\n",
       "      <td>25</td>\n",
       "    </tr>\n",
       "    <tr>\n",
       "      <th>4</th>\n",
       "      <td>1980-01-06</td>\n",
       "      <td>57</td>\n",
       "      <td>23</td>\n",
       "    </tr>\n",
       "    <tr>\n",
       "      <th>5</th>\n",
       "      <td>1980-01-07</td>\n",
       "      <td>29</td>\n",
       "      <td>11</td>\n",
       "    </tr>\n",
       "    <tr>\n",
       "      <th>6</th>\n",
       "      <td>1980-01-08</td>\n",
       "      <td>25</td>\n",
       "      <td>10</td>\n",
       "    </tr>\n",
       "    <tr>\n",
       "      <th>7</th>\n",
       "      <td>1980-01-09</td>\n",
       "      <td>29</td>\n",
       "      <td>5</td>\n",
       "    </tr>\n",
       "    <tr>\n",
       "      <th>8</th>\n",
       "      <td>1980-01-10</td>\n",
       "      <td>52</td>\n",
       "      <td>17</td>\n",
       "    </tr>\n",
       "    <tr>\n",
       "      <th>9</th>\n",
       "      <td>1980-01-11</td>\n",
       "      <td>54</td>\n",
       "      <td>20</td>\n",
       "    </tr>\n",
       "    <tr>\n",
       "      <th>10</th>\n",
       "      <td>1980-01-12</td>\n",
       "      <td>57</td>\n",
       "      <td>20</td>\n",
       "    </tr>\n",
       "    <tr>\n",
       "      <th>11</th>\n",
       "      <td>1980-01-13</td>\n",
       "      <td>59</td>\n",
       "      <td>45</td>\n",
       "    </tr>\n",
       "    <tr>\n",
       "      <th>12</th>\n",
       "      <td>1980-01-14</td>\n",
       "      <td>63</td>\n",
       "      <td>38</td>\n",
       "    </tr>\n",
       "    <tr>\n",
       "      <th>13</th>\n",
       "      <td>1980-01-15</td>\n",
       "      <td>54</td>\n",
       "      <td>34</td>\n",
       "    </tr>\n",
       "    <tr>\n",
       "      <th>14</th>\n",
       "      <td>1980-01-16</td>\n",
       "      <td>43</td>\n",
       "      <td>28</td>\n",
       "    </tr>\n",
       "    <tr>\n",
       "      <th>15</th>\n",
       "      <td>1980-01-17</td>\n",
       "      <td>48</td>\n",
       "      <td>25</td>\n",
       "    </tr>\n",
       "    <tr>\n",
       "      <th>16</th>\n",
       "      <td>1980-01-18</td>\n",
       "      <td>48</td>\n",
       "      <td>29</td>\n",
       "    </tr>\n",
       "    <tr>\n",
       "      <th>17</th>\n",
       "      <td>1980-01-19</td>\n",
       "      <td>31</td>\n",
       "      <td>14</td>\n",
       "    </tr>\n",
       "    <tr>\n",
       "      <th>18</th>\n",
       "      <td>1980-01-20</td>\n",
       "      <td>30</td>\n",
       "      <td>9</td>\n",
       "    </tr>\n",
       "    <tr>\n",
       "      <th>19</th>\n",
       "      <td>1980-01-21</td>\n",
       "      <td>42</td>\n",
       "      <td>14</td>\n",
       "    </tr>\n",
       "    <tr>\n",
       "      <th>20</th>\n",
       "      <td>1980-01-22</td>\n",
       "      <td>42</td>\n",
       "      <td>13</td>\n",
       "    </tr>\n",
       "    <tr>\n",
       "      <th>21</th>\n",
       "      <td>1980-01-23</td>\n",
       "      <td>52</td>\n",
       "      <td>25</td>\n",
       "    </tr>\n",
       "    <tr>\n",
       "      <th>22</th>\n",
       "      <td>1980-01-24</td>\n",
       "      <td>60</td>\n",
       "      <td>41</td>\n",
       "    </tr>\n",
       "    <tr>\n",
       "      <th>23</th>\n",
       "      <td>1980-01-25</td>\n",
       "      <td>52</td>\n",
       "      <td>14</td>\n",
       "    </tr>\n",
       "    <tr>\n",
       "      <th>24</th>\n",
       "      <td>1980-01-26</td>\n",
       "      <td>14</td>\n",
       "      <td>0</td>\n",
       "    </tr>\n",
       "    <tr>\n",
       "      <th>25</th>\n",
       "      <td>1980-01-27</td>\n",
       "      <td>4</td>\n",
       "      <td>-2</td>\n",
       "    </tr>\n",
       "    <tr>\n",
       "      <th>26</th>\n",
       "      <td>1980-01-28</td>\n",
       "      <td>7</td>\n",
       "      <td>-1</td>\n",
       "    </tr>\n",
       "    <tr>\n",
       "      <th>27</th>\n",
       "      <td>1980-01-29</td>\n",
       "      <td>12</td>\n",
       "      <td>0</td>\n",
       "    </tr>\n",
       "    <tr>\n",
       "      <th>28</th>\n",
       "      <td>1980-01-30</td>\n",
       "      <td>27</td>\n",
       "      <td>-2</td>\n",
       "    </tr>\n",
       "    <tr>\n",
       "      <th>29</th>\n",
       "      <td>1980-01-31</td>\n",
       "      <td>39</td>\n",
       "      <td>2</td>\n",
       "    </tr>\n",
       "    <tr>\n",
       "      <th>...</th>\n",
       "      <td>...</td>\n",
       "      <td>...</td>\n",
       "      <td>...</td>\n",
       "    </tr>\n",
       "    <tr>\n",
       "      <th>3638</th>\n",
       "      <td>1990-12-02</td>\n",
       "      <td>36</td>\n",
       "      <td>20</td>\n",
       "    </tr>\n",
       "    <tr>\n",
       "      <th>3639</th>\n",
       "      <td>1990-12-03</td>\n",
       "      <td>40</td>\n",
       "      <td>13</td>\n",
       "    </tr>\n",
       "    <tr>\n",
       "      <th>3640</th>\n",
       "      <td>1990-12-04</td>\n",
       "      <td>61</td>\n",
       "      <td>24</td>\n",
       "    </tr>\n",
       "    <tr>\n",
       "      <th>3641</th>\n",
       "      <td>1990-12-05</td>\n",
       "      <td>58</td>\n",
       "      <td>40</td>\n",
       "    </tr>\n",
       "    <tr>\n",
       "      <th>3642</th>\n",
       "      <td>1990-12-06</td>\n",
       "      <td>45</td>\n",
       "      <td>18</td>\n",
       "    </tr>\n",
       "    <tr>\n",
       "      <th>3643</th>\n",
       "      <td>1990-12-07</td>\n",
       "      <td>57</td>\n",
       "      <td>22</td>\n",
       "    </tr>\n",
       "    <tr>\n",
       "      <th>3644</th>\n",
       "      <td>1990-12-08</td>\n",
       "      <td>57</td>\n",
       "      <td>30</td>\n",
       "    </tr>\n",
       "    <tr>\n",
       "      <th>3645</th>\n",
       "      <td>1990-12-09</td>\n",
       "      <td>62</td>\n",
       "      <td>35</td>\n",
       "    </tr>\n",
       "    <tr>\n",
       "      <th>3646</th>\n",
       "      <td>1990-12-10</td>\n",
       "      <td>67</td>\n",
       "      <td>37</td>\n",
       "    </tr>\n",
       "    <tr>\n",
       "      <th>3647</th>\n",
       "      <td>1990-12-11</td>\n",
       "      <td>67</td>\n",
       "      <td>42</td>\n",
       "    </tr>\n",
       "    <tr>\n",
       "      <th>3648</th>\n",
       "      <td>1990-12-12</td>\n",
       "      <td>57</td>\n",
       "      <td>34</td>\n",
       "    </tr>\n",
       "    <tr>\n",
       "      <th>3649</th>\n",
       "      <td>1990-12-13</td>\n",
       "      <td>36</td>\n",
       "      <td>27</td>\n",
       "    </tr>\n",
       "    <tr>\n",
       "      <th>3650</th>\n",
       "      <td>1990-12-14</td>\n",
       "      <td>42</td>\n",
       "      <td>27</td>\n",
       "    </tr>\n",
       "    <tr>\n",
       "      <th>3651</th>\n",
       "      <td>1990-12-15</td>\n",
       "      <td>42</td>\n",
       "      <td>20</td>\n",
       "    </tr>\n",
       "    <tr>\n",
       "      <th>3652</th>\n",
       "      <td>1990-12-16</td>\n",
       "      <td>49</td>\n",
       "      <td>25</td>\n",
       "    </tr>\n",
       "    <tr>\n",
       "      <th>3653</th>\n",
       "      <td>1990-12-17</td>\n",
       "      <td>37</td>\n",
       "      <td>25</td>\n",
       "    </tr>\n",
       "    <tr>\n",
       "      <th>3654</th>\n",
       "      <td>1990-12-18</td>\n",
       "      <td>42</td>\n",
       "      <td>22</td>\n",
       "    </tr>\n",
       "    <tr>\n",
       "      <th>3655</th>\n",
       "      <td>1990-12-19</td>\n",
       "      <td>39</td>\n",
       "      <td>2</td>\n",
       "    </tr>\n",
       "    <tr>\n",
       "      <th>3656</th>\n",
       "      <td>1990-12-20</td>\n",
       "      <td>3</td>\n",
       "      <td>-14</td>\n",
       "    </tr>\n",
       "    <tr>\n",
       "      <th>3657</th>\n",
       "      <td>1990-12-21</td>\n",
       "      <td>-8</td>\n",
       "      <td>-20</td>\n",
       "    </tr>\n",
       "    <tr>\n",
       "      <th>3658</th>\n",
       "      <td>1990-12-22</td>\n",
       "      <td>2</td>\n",
       "      <td>-24</td>\n",
       "    </tr>\n",
       "    <tr>\n",
       "      <th>3659</th>\n",
       "      <td>1990-12-23</td>\n",
       "      <td>20</td>\n",
       "      <td>-13</td>\n",
       "    </tr>\n",
       "    <tr>\n",
       "      <th>3660</th>\n",
       "      <td>1990-12-24</td>\n",
       "      <td>30</td>\n",
       "      <td>2</td>\n",
       "    </tr>\n",
       "    <tr>\n",
       "      <th>3661</th>\n",
       "      <td>1990-12-25</td>\n",
       "      <td>23</td>\n",
       "      <td>5</td>\n",
       "    </tr>\n",
       "    <tr>\n",
       "      <th>3662</th>\n",
       "      <td>1990-12-26</td>\n",
       "      <td>27</td>\n",
       "      <td>0</td>\n",
       "    </tr>\n",
       "    <tr>\n",
       "      <th>3663</th>\n",
       "      <td>1990-12-27</td>\n",
       "      <td>51</td>\n",
       "      <td>6</td>\n",
       "    </tr>\n",
       "    <tr>\n",
       "      <th>3664</th>\n",
       "      <td>1990-12-28</td>\n",
       "      <td>48</td>\n",
       "      <td>16</td>\n",
       "    </tr>\n",
       "    <tr>\n",
       "      <th>3665</th>\n",
       "      <td>1990-12-29</td>\n",
       "      <td>17</td>\n",
       "      <td>-5</td>\n",
       "    </tr>\n",
       "    <tr>\n",
       "      <th>3666</th>\n",
       "      <td>1990-12-30</td>\n",
       "      <td>41</td>\n",
       "      <td>-11</td>\n",
       "    </tr>\n",
       "    <tr>\n",
       "      <th>3667</th>\n",
       "      <td>1990-12-31</td>\n",
       "      <td>52</td>\n",
       "      <td>17</td>\n",
       "    </tr>\n",
       "  </tbody>\n",
       "</table>\n",
       "<p>3668 rows × 3 columns</p>\n",
       "</div>"
      ],
      "text/plain": [
       "           date  maxTemp  minTemp\n",
       "0    1980-01-02       42       29\n",
       "1    1980-01-03       43       14\n",
       "2    1980-01-04       43       31\n",
       "3    1980-01-05       57       25\n",
       "4    1980-01-06       57       23\n",
       "5    1980-01-07       29       11\n",
       "6    1980-01-08       25       10\n",
       "7    1980-01-09       29        5\n",
       "8    1980-01-10       52       17\n",
       "9    1980-01-11       54       20\n",
       "10   1980-01-12       57       20\n",
       "11   1980-01-13       59       45\n",
       "12   1980-01-14       63       38\n",
       "13   1980-01-15       54       34\n",
       "14   1980-01-16       43       28\n",
       "15   1980-01-17       48       25\n",
       "16   1980-01-18       48       29\n",
       "17   1980-01-19       31       14\n",
       "18   1980-01-20       30        9\n",
       "19   1980-01-21       42       14\n",
       "20   1980-01-22       42       13\n",
       "21   1980-01-23       52       25\n",
       "22   1980-01-24       60       41\n",
       "23   1980-01-25       52       14\n",
       "24   1980-01-26       14        0\n",
       "25   1980-01-27        4       -2\n",
       "26   1980-01-28        7       -1\n",
       "27   1980-01-29       12        0\n",
       "28   1980-01-30       27       -2\n",
       "29   1980-01-31       39        2\n",
       "...         ...      ...      ...\n",
       "3638 1990-12-02       36       20\n",
       "3639 1990-12-03       40       13\n",
       "3640 1990-12-04       61       24\n",
       "3641 1990-12-05       58       40\n",
       "3642 1990-12-06       45       18\n",
       "3643 1990-12-07       57       22\n",
       "3644 1990-12-08       57       30\n",
       "3645 1990-12-09       62       35\n",
       "3646 1990-12-10       67       37\n",
       "3647 1990-12-11       67       42\n",
       "3648 1990-12-12       57       34\n",
       "3649 1990-12-13       36       27\n",
       "3650 1990-12-14       42       27\n",
       "3651 1990-12-15       42       20\n",
       "3652 1990-12-16       49       25\n",
       "3653 1990-12-17       37       25\n",
       "3654 1990-12-18       42       22\n",
       "3655 1990-12-19       39        2\n",
       "3656 1990-12-20        3      -14\n",
       "3657 1990-12-21       -8      -20\n",
       "3658 1990-12-22        2      -24\n",
       "3659 1990-12-23       20      -13\n",
       "3660 1990-12-24       30        2\n",
       "3661 1990-12-25       23        5\n",
       "3662 1990-12-26       27        0\n",
       "3663 1990-12-27       51        6\n",
       "3664 1990-12-28       48       16\n",
       "3665 1990-12-29       17       -5\n",
       "3666 1990-12-30       41      -11\n",
       "3667 1990-12-31       52       17\n",
       "\n",
       "[3668 rows x 3 columns]"
      ]
     },
     "execution_count": 24,
     "metadata": {},
     "output_type": "execute_result"
    }
   ],
   "source": [
    "dataClean.assign(date=pd.to_datetime(dataClean.date).values)"
   ]
  },
  {
   "cell_type": "code",
   "execution_count": 55,
   "metadata": {},
   "outputs": [
    {
     "data": {
      "text/html": [
       "<div>\n",
       "<style scoped>\n",
       "    .dataframe tbody tr th:only-of-type {\n",
       "        vertical-align: middle;\n",
       "    }\n",
       "\n",
       "    .dataframe tbody tr th {\n",
       "        vertical-align: top;\n",
       "    }\n",
       "\n",
       "    .dataframe thead th {\n",
       "        text-align: right;\n",
       "    }\n",
       "</style>\n",
       "<table border=\"1\" class=\"dataframe\">\n",
       "  <thead>\n",
       "    <tr style=\"text-align: right;\">\n",
       "      <th></th>\n",
       "      <th>maxTemp</th>\n",
       "      <th>minTemp</th>\n",
       "    </tr>\n",
       "    <tr>\n",
       "      <th>date</th>\n",
       "      <th></th>\n",
       "      <th></th>\n",
       "    </tr>\n",
       "  </thead>\n",
       "  <tbody>\n",
       "    <tr>\n",
       "      <th>1980-01-02</th>\n",
       "      <td>42</td>\n",
       "      <td>29</td>\n",
       "    </tr>\n",
       "    <tr>\n",
       "      <th>1980-01-03</th>\n",
       "      <td>43</td>\n",
       "      <td>14</td>\n",
       "    </tr>\n",
       "    <tr>\n",
       "      <th>1980-01-04</th>\n",
       "      <td>43</td>\n",
       "      <td>31</td>\n",
       "    </tr>\n",
       "    <tr>\n",
       "      <th>1980-01-05</th>\n",
       "      <td>57</td>\n",
       "      <td>25</td>\n",
       "    </tr>\n",
       "    <tr>\n",
       "      <th>1980-01-06</th>\n",
       "      <td>57</td>\n",
       "      <td>23</td>\n",
       "    </tr>\n",
       "  </tbody>\n",
       "</table>\n",
       "</div>"
      ],
      "text/plain": [
       "            maxTemp  minTemp\n",
       "date                        \n",
       "1980-01-02       42       29\n",
       "1980-01-03       43       14\n",
       "1980-01-04       43       31\n",
       "1980-01-05       57       25\n",
       "1980-01-06       57       23"
      ]
     },
     "execution_count": 55,
     "metadata": {},
     "output_type": "execute_result"
    }
   ],
   "source": [
    "dataClean.set_index('date',inplace=True)\n",
    "dataClean.head()"
   ]
  },
  {
   "cell_type": "markdown",
   "metadata": {},
   "source": [
    "## 1.3 Data Cleaning and Manipulation\n",
    "\n",
    "Recall the function in section 1.1, which lists various functions associated with data frames and series that allow you to easily see your data. \n",
    "\n",
    "### Plotting\n",
    "First we will discuss basic plotting, because looking at the data is the most important part!\n",
    "\n",
    "We can do this by plotting line plots, histograms, etc. A full description [can be found here.](https://pandas.pydata.org/pandas-docs/version/0.23.4/generated/pandas.DataFrame.plot.html)\n"
   ]
  },
  {
   "cell_type": "code",
   "execution_count": 164,
   "metadata": {},
   "outputs": [
    {
     "data": {
      "text/plain": [
       "<matplotlib.axes._subplots.AxesSubplot at 0x1c2dd00668>"
      ]
     },
     "execution_count": 164,
     "metadata": {},
     "output_type": "execute_result"
    },
    {
     "data": {
      "image/png": "[encoded data removed]",
      "text/plain": [
       "<Figure size 432x288 with 1 Axes>"
      ]
     },
     "metadata": {
      "needs_background": "light"
     },
     "output_type": "display_data"
    }
   ],
   "source": [
    "dataClean.plot()"
   ]
  },
  {
   "cell_type": "code",
   "execution_count": 167,
   "metadata": {},
   "outputs": [
    {
     "data": {
      "text/plain": [
       "<matplotlib.axes._subplots.AxesSubplot at 0x1c2d165898>"
      ]
     },
     "execution_count": 167,
     "metadata": {},
     "output_type": "execute_result"
    },
    {
     "data": {
      "image/png": "[encoded data removed]",
      "text/plain": [
       "<Figure size 432x288 with 1 Axes>"
      ]
     },
     "metadata": {
      "needs_background": "light"
     },
     "output_type": "display_data"
    }
   ],
   "source": [
    "dataClean.plot(kind='hist')"
   ]
  },
  {
   "cell_type": "markdown",
   "metadata": {},
   "source": [
    "And each column independently"
   ]
  },
  {
   "cell_type": "code",
   "execution_count": 170,
   "metadata": {},
   "outputs": [
    {
     "data": {
      "text/plain": [
       "<matplotlib.axes._subplots.AxesSubplot at 0x1c2d956438>"
      ]
     },
     "execution_count": 170,
     "metadata": {},
     "output_type": "execute_result"
    },
    {
     "data": {
      "image/png": "[encoded data removed]",
      "text/plain": [
       "<Figure size 432x288 with 1 Axes>"
      ]
     },
     "metadata": {
      "needs_background": "light"
     },
     "output_type": "display_data"
    }
   ],
   "source": [
    "dataClean.maxTemp.plot(kind='hist')"
   ]
  },
  {
   "cell_type": "code",
   "execution_count": 171,
   "metadata": {},
   "outputs": [
    {
     "data": {
      "text/plain": [
       "<matplotlib.axes._subplots.AxesSubplot at 0x1c29319358>"
      ]
     },
     "execution_count": 171,
     "metadata": {},
     "output_type": "execute_result"
    },
    {
     "data": {
      "image/png": "[encoded data removed]",
      "text/plain": [
       "<Figure size 432x288 with 1 Axes>"
      ]
     },
     "metadata": {
      "needs_background": "light"
     },
     "output_type": "display_data"
    }
   ],
   "source": [
    "dataClean.minTemp.plot(kind='hist')"
   ]
  },
  {
   "cell_type": "markdown",
   "metadata": {},
   "source": [
    "### Working with missing or incorrect data\n",
    "\n",
    "We will cover basics related to data cleaning here. We will not cover every feature within pandas, please find additional information on the [official pandas site](https://pandas.pydata.org/pandas-docs/stable/). Note you will also find lots of information on sites such as stackoverflow, quora, etc., while information on these sites can be very helpful, there is a notable amount of poor advice. If you use these sites please keep in mind problems that can come up with chained assignments (explained below) and be sure to look up specifics of functions listed (eg. what is returned, what parameters do) on the official pandas site. \n",
    " \n",
    "#### The inplace parameter\n",
    "For most methods there is an optional boolean parameter, inplace = True/False, in most cases it is set to false. This means that the method creates a new copy of the dataframe. Setting inplace = True will result in pandas adjusting values of the dataframe it is called on. You call these differently, in the inplace=False method, we need to reset the dataframe.\n",
    "\n",
    "`data.fillna(method = 'ffill', inplace=True)`\n",
    "\n",
    "\n",
    "| Method                                                | What it does                                                                    |\n",
    "|-------------------------------------------------------|---------------------------------------------------------------------------------|\n",
    "| Dataframe.dropna(self,[options])                      | Drop missing values                                                             |\n",
    "| DataFrame.fillna(self, value, method, [options])      | Fill in missing values with various methods (forward fill, backward fill, etc.) |\n",
    "| DataFrame.replace(self, to_replace, value, [options]) | Replace one value with another                                                  |\n",
    "| DataFrame.interpolate(self, method, [options])        | Interpolate with a certain method                                               |\n",
    "\n",
    "#### Inserting a new column\n",
    "We can insert a column into a dataframe at a specified location using the insert() function\n",
    "`DataFrame.insert(self, loc, column, value, [allow_duplicates=False])`\n",
    "\n",
    "| Method | what it does                                                                        |\n",
    "|--------|-------------------------------------------------------------------------------------|\n",
    "| loc    | Integer value for where to insert the new column.                                   |\n",
    "|   -    | Must be between 0 <= loc <= len(DataFrame.columns)                                  |\n",
    "| column | The label of the new column name. A string, number, or hashable object              |\n",
    "| value  | The value(s) to insert. An integer (will be repeated), series, or array-like object |\n",
    "\n",
    "#### Merging Multiple DataFrames\n",
    "\n",
    "There are multiple options on how we can join two frames, as shown in the diagrams:\n",
    "\n",
    "![Example 3](QEDsupergroup/merge.png)\n",
    "\n",
    "| method                                    | what it does                                                                                                                                          |\n",
    "|-------------------------------------------|-------------------------------------------------------------------------------------------------------------------------------------------------------|\n",
    "| merge(frame1, frame2,[options])           | Standard joining of multiple dataframes, specify how you want to join and which indexes to keep                                                       |\n",
    "| DataFrame.join(frame2,[options])          | Uses merge. Use this one when you want to merge on the index. Join columns with other DataFrame either on index or on a key column. Efficiently join multiple DataFrame objects by index at once by passing a list. Defaults to left-join  |                                                                                                                               \n",
    "| concat([frame1, frame2], axis, [options]) | Concat multiple dataframes along an axis with optional set logic (union, intersection) of tie indexes on other axes. The concat is best understood with examples [here](https://pandas.pydata.org/pandas-docs/stable/user_guide/merging.html) |\n",
    "\n",
    "Lets try out a couple of these on multiple data files:"
   ]
  },
  {
   "cell_type": "code",
   "execution_count": 4,
   "metadata": {},
   "outputs": [
    {
     "name": "stdout",
     "output_type": "stream",
     "text": [
      "   Id          time value  Unnamed: 3  Unnamed: 4\n",
      "0   1  3/16/18 0:04   131         NaN         NaN\n",
      "1   2  3/16/18 0:09   138         NaN         NaN\n",
      "2   3  3/16/18 0:14   144         NaN         NaN\n",
      "3   4  3/16/18 0:19   152         NaN         NaN\n",
      "4   5  3/16/18 0:24   151         NaN         NaN\n",
      "   patient           time  value\n",
      "0    52122  3/16/18 17:16     70\n",
      "1    52122  3/16/18 17:17     90\n",
      "2    52122  3/16/18 17:17     85\n",
      "3    52122  3/16/18 17:17     84\n",
      "4    52122  3/16/18 17:17     83\n",
      "     Id           time  value  Unnamed: 3  Unnamed: 4  Unnamed: 5\n",
      "0  1501   3/16/18 0:20      0         NaN         NaN         NaN\n",
      "1  1502   3/16/18 8:42     60         NaN         NaN         NaN\n",
      "2  1503  3/16/18 12:00      0         NaN         NaN         NaN\n",
      "3  1504  3/16/18 13:01      0         NaN         NaN         NaN\n",
      "4  1505  3/16/18 13:44      0         NaN         NaN         NaN\n"
     ]
    }
   ],
   "source": [
    "cgm = pd.read_csv('data/cgm.csv')\n",
    "hr = pd.read_csv('data/hr.csv')\n",
    "meal = pd.read_csv('data/meal.csv')\n",
    "\n",
    "print(cgm.head())\n",
    "print(hr.head())\n",
    "print(meal.head())"
   ]
  },
  {
   "cell_type": "markdown",
   "metadata": {},
   "source": [
    "Lets get rid of the unnamed columns"
   ]
  },
  {
   "cell_type": "code",
   "execution_count": 226,
   "metadata": {},
   "outputs": [
    {
     "name": "stdout",
     "output_type": "stream",
     "text": [
      "   Id          time value\n",
      "0   1  3/16/18 0:04   131\n",
      "1   2  3/16/18 0:09   138\n",
      "2   3  3/16/18 0:14   144\n",
      "3   4  3/16/18 0:19   152\n",
      "4   5  3/16/18 0:24   151\n",
      "   patient           time  value\n",
      "0    52122  3/16/18 17:16     70\n",
      "1    52122  3/16/18 17:17     90\n",
      "2    52122  3/16/18 17:17     85\n",
      "3    52122  3/16/18 17:17     84\n",
      "4    52122  3/16/18 17:17     83\n",
      "     Id           time  value\n",
      "0  1501   3/16/18 0:20      0\n",
      "1  1502   3/16/18 8:42     60\n",
      "2  1503  3/16/18 12:00      0\n",
      "3  1504  3/16/18 13:01      0\n",
      "4  1505  3/16/18 13:44      0\n"
     ]
    }
   ],
   "source": [
    "# If pandas imported some \"junk\" that we had in the spreadsheet and\n",
    "# resulted in extra \"Unnamed\" columns, we can filter for and drop them by using\n",
    "# text parsing (str.contains())\n",
    "cgm = cgm.loc[:, ~cgm.columns.str.contains('^Unnamed')]\n",
    "hr = hr.loc[:, ~hr.columns.str.contains('^Unnamed')]\n",
    "meal = meal.loc[:, ~meal.columns.str.contains('^Unnamed')]\n",
    "\n",
    "print(cgm.head())\n",
    "print(hr.head())\n",
    "print(meal.head())"
   ]
  },
  {
   "cell_type": "code",
   "execution_count": 227,
   "metadata": {
    "scrolled": true
   },
   "outputs": [
    {
     "name": "stdout",
     "output_type": "stream",
     "text": [
      "   Id          time  cgm\n",
      "0   1  3/16/18 0:04  131\n",
      "1   2  3/16/18 0:09  138\n",
      "2   3  3/16/18 0:14  144\n",
      "3   4  3/16/18 0:19  152\n",
      "4   5  3/16/18 0:24  151\n",
      "   patient           time  hr\n",
      "0    52122  3/16/18 17:16  70\n",
      "1    52122  3/16/18 17:17  90\n",
      "2    52122  3/16/18 17:17  85\n",
      "3    52122  3/16/18 17:17  84\n",
      "4    52122  3/16/18 17:17  83\n",
      "     Id           time  meal\n",
      "0  1501   3/16/18 0:20     0\n",
      "1  1502   3/16/18 8:42    60\n",
      "2  1503  3/16/18 12:00     0\n",
      "3  1504  3/16/18 13:01     0\n",
      "4  1505  3/16/18 13:44     0\n"
     ]
    }
   ],
   "source": [
    "#lets rename columns\n",
    "cgm.rename(columns={\"value\":\"cgm\"},inplace=True)\n",
    "hr.rename(columns={\"value\":\"hr\"},inplace=True)\n",
    "meal.rename(columns={\"value\":\"meal\"},inplace=True)\n",
    "\n",
    "print(cgm.head())\n",
    "print(hr.head())\n",
    "print(meal.head())"
   ]
  },
  {
   "cell_type": "markdown",
   "metadata": {},
   "source": [
    "#### Index\n",
    "\n",
    "As we noted before, data is stored with value-index pairs, and when we combine dataframes, it occurs on the index-level. \n",
    "\n",
    "Here we want to align our data (that was taken at different time points) so the times match up. \n",
    "\n",
    "First we will convert the `time` column to be of type datetime, then we will set the index of all the dataframes to be `time`.\n",
    "\n",
    "The datetime object is very useful because we can do things like round easily. \n",
    "\n",
    "You can find [additional time series related functionalities here](https://pandas.pydata.org/pandas-docs/stable/reference/series.html#time-series-related), as well as [useful attributes of datetime objects.](https://docs.python.org/2/library/datetime.html)"
   ]
  },
  {
   "cell_type": "code",
   "execution_count": 228,
   "metadata": {},
   "outputs": [
    {
     "name": "stdout",
     "output_type": "stream",
     "text": [
      "<class 'pandas.core.frame.DataFrame'>\n",
      "RangeIndex: 15634 entries, 0 to 15633\n",
      "Data columns (total 4 columns):\n",
      "Id      15634 non-null int64\n",
      "time    15634 non-null datetime64[ns]\n",
      "cgm     15634 non-null object\n",
      "DT      15634 non-null datetime64[ns]\n",
      "dtypes: datetime64[ns](2), int64(1), object(1)\n",
      "memory usage: 488.6+ KB\n",
      "None\n"
     ]
    }
   ],
   "source": [
    "cgm.insert(len(cgm.columns),'DT',pd.to_datetime(cgm.time))\n",
    "hr.insert(len(hr.columns),'DT',pd.to_datetime(hr.time))\n",
    "meal.insert(len(meal.columns),'DT',pd.to_datetime(meal.time))\n",
    "\n",
    "cgm.time = pd.to_datetime(cgm.time)\n",
    "hr.time = pd.to_datetime(hr.time)\n",
    "meal.time = pd.to_datetime(meal.time)\n",
    "\n",
    "print(cgm.info())"
   ]
  },
  {
   "cell_type": "markdown",
   "metadata": {},
   "source": [
    "Let's create a rounded time column, rounded to the nearest 5min. "
   ]
  },
  {
   "cell_type": "code",
   "execution_count": 229,
   "metadata": {},
   "outputs": [
    {
     "name": "stdout",
     "output_type": "stream",
     "text": [
      "   Id                time  cgm                  DT                 DT5\n",
      "0   1 2018-03-16 00:04:00  131 2018-03-16 00:04:00 2018-03-16 00:05:00\n",
      "1   2 2018-03-16 00:09:00  138 2018-03-16 00:09:00 2018-03-16 00:10:00\n",
      "2   3 2018-03-16 00:14:00  144 2018-03-16 00:14:00 2018-03-16 00:15:00\n",
      "3   4 2018-03-16 00:19:00  152 2018-03-16 00:19:00 2018-03-16 00:20:00\n",
      "4   5 2018-03-16 00:24:00  151 2018-03-16 00:24:00 2018-03-16 00:25:00\n",
      "   patient                time  hr                  DT                 DT5\n",
      "0    52122 2018-03-16 17:16:00  70 2018-03-16 17:16:00 2018-03-16 17:15:00\n",
      "1    52122 2018-03-16 17:17:00  90 2018-03-16 17:17:00 2018-03-16 17:15:00\n",
      "2    52122 2018-03-16 17:17:00  85 2018-03-16 17:17:00 2018-03-16 17:15:00\n",
      "3    52122 2018-03-16 17:17:00  84 2018-03-16 17:17:00 2018-03-16 17:15:00\n",
      "4    52122 2018-03-16 17:17:00  83 2018-03-16 17:17:00 2018-03-16 17:15:00\n",
      "     Id                time  meal                  DT                 DT5\n",
      "0  1501 2018-03-16 00:20:00     0 2018-03-16 00:20:00 2018-03-16 00:20:00\n",
      "1  1502 2018-03-16 08:42:00    60 2018-03-16 08:42:00 2018-03-16 08:40:00\n",
      "2  1503 2018-03-16 12:00:00     0 2018-03-16 12:00:00 2018-03-16 12:00:00\n",
      "3  1504 2018-03-16 13:01:00     0 2018-03-16 13:01:00 2018-03-16 13:00:00\n",
      "4  1505 2018-03-16 13:44:00     0 2018-03-16 13:44:00 2018-03-16 13:45:00\n"
     ]
    }
   ],
   "source": [
    "cgm.insert(len(cgm.columns),'DT5',cgm.DT.dt.round('5min'))\n",
    "hr.insert(len(hr.columns),'DT5',hr.DT.dt.round('5min'))\n",
    "meal.insert(len(meal.columns),'DT5',meal.DT.dt.round('5min'))\n",
    "\n",
    "print(cgm.head())\n",
    "print(hr.head())\n",
    "print(meal.head())"
   ]
  },
  {
   "cell_type": "markdown",
   "metadata": {},
   "source": [
    "Now we can easily get differences in time between points, and create a new dataframe where we have cleaned data to 5min intervals."
   ]
  },
  {
   "cell_type": "code",
   "execution_count": 230,
   "metadata": {},
   "outputs": [
    {
     "name": "stdout",
     "output_type": "stream",
     "text": [
      "   Id                time  cgm                  DT                 DT5  \\\n",
      "0   1 2018-03-16 00:04:00  131 2018-03-16 00:04:00 2018-03-16 00:05:00   \n",
      "1   2 2018-03-16 00:09:00  138 2018-03-16 00:09:00 2018-03-16 00:10:00   \n",
      "2   3 2018-03-16 00:14:00  144 2018-03-16 00:14:00 2018-03-16 00:15:00   \n",
      "3   4 2018-03-16 00:19:00  152 2018-03-16 00:19:00 2018-03-16 00:20:00   \n",
      "4   5 2018-03-16 00:24:00  151 2018-03-16 00:24:00 2018-03-16 00:25:00   \n",
      "\n",
      "   DT_diff  \n",
      "0      NaT  \n",
      "1 00:05:00  \n",
      "2 00:05:00  \n",
      "3 00:05:00  \n",
      "4 00:05:00  \n"
     ]
    }
   ],
   "source": [
    "cgm.insert(len(cgm.columns),'DT_diff',cgm.DT5.diff())\n",
    "hr.insert(len(hr.columns),'DT_diff',hr.DT5.diff())\n",
    "meal.insert(len(meal.columns),'DT_diff',meal.DT5.diff())\n",
    "\n",
    "print(cgm.head())"
   ]
  },
  {
   "cell_type": "markdown",
   "metadata": {},
   "source": [
    "### Fixing not-integer data\n",
    "Before we can group data, we want to ensure values are integers (not objects or a mix of text & number)\n",
    "\n",
    "Lets check if non-integer values exist:"
   ]
  },
  {
   "cell_type": "code",
   "execution_count": 231,
   "metadata": {},
   "outputs": [
    {
     "name": "stdout",
     "output_type": "stream",
     "text": [
      "['low' 'Low' 'high' 'LOW']\n",
      "['low' 'high']\n"
     ]
    }
   ],
   "source": [
    "#first, let's find all the unique elements that cannot be cast to int\n",
    "uniq = cgm.cgm[~cgm.cgm.str.isnumeric()].unique()\n",
    "print(uniq) #print them out\n",
    "\n",
    "#to make it easier, lets lowercase everything\n",
    "cgm.cgm=cgm.cgm.str.lower()\n",
    "uniq = cgm.cgm[~cgm.cgm.str.isnumeric()].unique()\n",
    "print(uniq) #now we just have lower case words, there are fewer unique items\n",
    "\n",
    "#replace the words with integer values\n",
    "cgm.cgm.replace('low',40,inplace=True)\n",
    "cgm.cgm.replace('high',400,inplace=True)"
   ]
  },
  {
   "cell_type": "code",
   "execution_count": 232,
   "metadata": {},
   "outputs": [
    {
     "name": "stdout",
     "output_type": "stream",
     "text": [
      "<class 'pandas.core.frame.DataFrame'>\n",
      "RangeIndex: 15634 entries, 0 to 15633\n",
      "Data columns (total 6 columns):\n",
      "Id         15634 non-null int64\n",
      "time       15634 non-null datetime64[ns]\n",
      "cgm        15634 non-null object\n",
      "DT         15634 non-null datetime64[ns]\n",
      "DT5        15634 non-null datetime64[ns]\n",
      "DT_diff    15633 non-null timedelta64[ns]\n",
      "dtypes: datetime64[ns](3), int64(1), object(1), timedelta64[ns](1)\n",
      "memory usage: 732.9+ KB\n",
      "None\n"
     ]
    }
   ],
   "source": [
    "print(cgm.info())"
   ]
  },
  {
   "cell_type": "code",
   "execution_count": 234,
   "metadata": {},
   "outputs": [
    {
     "name": "stdout",
     "output_type": "stream",
     "text": [
      "<class 'pandas.core.frame.DataFrame'>\n",
      "RangeIndex: 15634 entries, 0 to 15633\n",
      "Data columns (total 6 columns):\n",
      "Id         15634 non-null int64\n",
      "time       15634 non-null datetime64[ns]\n",
      "cgm        15634 non-null int64\n",
      "DT         15634 non-null datetime64[ns]\n",
      "DT5        15634 non-null datetime64[ns]\n",
      "DT_diff    15633 non-null timedelta64[ns]\n",
      "dtypes: datetime64[ns](3), int64(2), timedelta64[ns](1)\n",
      "memory usage: 732.9 KB\n"
     ]
    }
   ],
   "source": [
    "cgm.cgm=cgm.cgm.astype(int)\n",
    "cgm.info()"
   ]
  },
  {
   "cell_type": "code",
   "execution_count": 235,
   "metadata": {},
   "outputs": [],
   "source": [
    "hr.hr=hr.hr.astype(int)\n",
    "meal.meal=meal.meal.astype(int)"
   ]
  },
  {
   "cell_type": "markdown",
   "metadata": {},
   "source": [
    "### Grouping by value\n",
    "\n",
    "Pandas is excellent for doing operations such as `grouping` and `pivoting`.\n",
    "\n",
    "#### Pivoting\n",
    "We will not do any pivoting in this example, but it is a very useful function.\n",
    "If you have data where you have lots of different samples all in one file and you want to separate it out by sample, you can do this very easily using the pivot feature. [See this link for more info on pivoting](https://pandas.pydata.org/pandas-docs/stable/reference/api/pandas.DataFrame.pivot.html)\n",
    "\n",
    "Pivoting allows you to take multiple columns in your data (eg. cgm, meal, hr) and get a resultant frame that has rows of cgm, columns of hr and the values as sums of meal data for those combinations. (example at the end)\n",
    "\n",
    "#### Groupby\n",
    "Grouping is similar to pivoting, but they return differentlly *shaped* data. Rather than creating a heiarchy, groupby will take the dimensions given and place them into columns, with rows being combinations of those dimensions.\n",
    "\n",
    "\n",
    "The pandas groupby allows you to select one column based on another, and perform operations of values that fall into equivalent \"groups\". [You can read about it more here](https://pandas.pydata.org/pandas-docs/stable/reference/api/pandas.DataFrame.groupby.html)\n",
    "\n",
    "\n",
    "\n",
    "Now that we have our values as integers, we can create a new data set where we combine on the 5-minute interval and take the mean or sum of values based on the data. Let's go through the steps"
   ]
  },
  {
   "cell_type": "code",
   "execution_count": 236,
   "metadata": {},
   "outputs": [
    {
     "name": "stdout",
     "output_type": "stream",
     "text": [
      "DT5\n",
      "2018-03-16 00:05:00    131.0\n",
      "2018-03-16 00:10:00    138.0\n",
      "2018-03-16 00:15:00    144.0\n",
      "2018-03-16 00:20:00    152.0\n",
      "2018-03-16 00:25:00    151.0\n",
      "Name: cgm, dtype: float64\n",
      "DT5\n",
      "2018-03-16 00:20:00     0\n",
      "2018-03-16 08:40:00    60\n",
      "2018-03-16 12:00:00     0\n",
      "2018-03-16 13:00:00     0\n",
      "2018-03-16 13:45:00     0\n",
      "Name: meal, dtype: int64\n",
      "DT5\n",
      "2018-03-16 17:15:00     82.571429\n",
      "2018-03-16 17:30:00     70.000000\n",
      "2018-03-16 17:35:00     86.300000\n",
      "2018-03-16 17:40:00    107.461538\n",
      "2018-03-16 18:20:00     87.500000\n",
      "Name: hr, dtype: float64\n"
     ]
    }
   ],
   "source": [
    "roundedCGM = cgm.groupby('DT5')['cgm'].mean()\n",
    "roundedHR = hr.groupby('DT5')['hr'].mean()\n",
    "roundedMEAL = meal.groupby('DT5')['meal'].sum()\n",
    "\n",
    "print(roundedCGM.head())\n",
    "print(roundedMEAL.head())\n",
    "print(roundedHR.head())"
   ]
  },
  {
   "cell_type": "markdown",
   "metadata": {},
   "source": [
    "Let's create a large data structure that has lined-up meal, hr, and cgm data!\n",
    "\n",
    "Notice how the index of each of the rounded series is already the rounded time, so we can easily align based on that. \n",
    "\n"
   ]
  },
  {
   "cell_type": "code",
   "execution_count": 250,
   "metadata": {},
   "outputs": [
    {
     "name": "stdout",
     "output_type": "stream",
     "text": [
      "<class 'pandas.core.frame.DataFrame'>\n",
      "DatetimeIndex: 16115 entries, 2018-03-16 00:05:00 to 2018-05-11 18:05:00\n",
      "Data columns (total 3 columns):\n",
      "cgm     15556 non-null float64\n",
      "hr      12592 non-null float64\n",
      "meal    340 non-null float64\n",
      "dtypes: float64(3)\n",
      "memory usage: 503.6 KB\n",
      "                       cgm  hr  meal\n",
      "DT5                                 \n",
      "2018-03-16 00:05:00  131.0 NaN   NaN\n",
      "2018-03-16 00:10:00  138.0 NaN   NaN\n",
      "2018-03-16 00:15:00  144.0 NaN   NaN\n",
      "2018-03-16 00:20:00  152.0 NaN   0.0\n",
      "2018-03-16 00:25:00  151.0 NaN   NaN\n"
     ]
    }
   ],
   "source": [
    "#we can combine our dataframes to a list. Note this list has pointers to our dataframes (not copied versions)\n",
    "listOfFrames = [roundedCGM, roundedHR, roundedMEAL]\n",
    "\n",
    "#Lets join the frames together with a concatenation\n",
    "allData = pd.concat(listOfFrames,axis=1) \n",
    "#axis 1 means to combine as columns\n",
    "\n",
    "allData.info()\n",
    "print(allData.head())"
   ]
  },
  {
   "cell_type": "markdown",
   "metadata": {},
   "source": [
    "Now we can fill in the hr with a forward fill, and the meal with zeros"
   ]
  },
  {
   "cell_type": "code",
   "execution_count": 251,
   "metadata": {},
   "outputs": [
    {
     "name": "stdout",
     "output_type": "stream",
     "text": [
      "3523\n",
      "*------*\n",
      "206\n"
     ]
    }
   ],
   "source": [
    "#we can combine our dataframes to a list. Note this list has pointers to our dataframes (not copied versions)\n",
    "print(allData.hr.isna().sum())\n",
    "print('*------*')\n",
    "allData.hr.fillna(method='ffill',inplace=True)\n",
    "print(allData.hr.isna().sum())"
   ]
  },
  {
   "cell_type": "code",
   "execution_count": 252,
   "metadata": {},
   "outputs": [
    {
     "name": "stdout",
     "output_type": "stream",
     "text": [
      "0\n"
     ]
    }
   ],
   "source": [
    "allData.hr.fillna(method='bfill',inplace=True)\n",
    "print(allData.hr.isna().sum())"
   ]
  },
  {
   "cell_type": "code",
   "execution_count": 255,
   "metadata": {},
   "outputs": [
    {
     "name": "stdout",
     "output_type": "stream",
     "text": [
      "                       cgm         hr  meal\n",
      "DT5                                        \n",
      "2018-03-16 00:05:00  131.0  82.571429   0.0\n",
      "2018-03-16 00:10:00  138.0  82.571429   0.0\n",
      "2018-03-16 00:15:00  144.0  82.571429   0.0\n",
      "2018-03-16 00:20:00  152.0  82.571429   0.0\n",
      "2018-03-16 00:25:00  151.0  82.571429   0.0\n"
     ]
    }
   ],
   "source": [
    "allData.meal.fillna(0,inplace=True)\n",
    "print(allData.head())\n"
   ]
  },
  {
   "cell_type": "markdown",
   "metadata": {},
   "source": [
    "Now suppose we want to drop the row if there is no cgm data"
   ]
  },
  {
   "cell_type": "code",
   "execution_count": 256,
   "metadata": {},
   "outputs": [
    {
     "name": "stdout",
     "output_type": "stream",
     "text": [
      "559\n"
     ]
    }
   ],
   "source": [
    "print(allData.cgm.isna().sum())"
   ]
  },
  {
   "cell_type": "code",
   "execution_count": 258,
   "metadata": {},
   "outputs": [
    {
     "name": "stdout",
     "output_type": "stream",
     "text": [
      "0\n",
      "                       cgm         hr  meal\n",
      "DT5                                        \n",
      "2018-03-16 00:05:00  131.0  82.571429   0.0\n",
      "2018-03-16 00:10:00  138.0  82.571429   0.0\n",
      "2018-03-16 00:15:00  144.0  82.571429   0.0\n",
      "2018-03-16 00:20:00  152.0  82.571429   0.0\n",
      "2018-03-16 00:25:00  151.0  82.571429   0.0\n"
     ]
    }
   ],
   "source": [
    "allDataClean = allData.dropna(axis=0,subset=['cgm'])\n",
    "print(allDataClean.cgm.isna().sum())\n",
    "print(allDataClean.head())"
   ]
  },
  {
   "cell_type": "markdown",
   "metadata": {},
   "source": [
    "And just for anyone wanting a pivot example, here is one. "
   ]
  },
  {
   "cell_type": "code",
   "execution_count": 261,
   "metadata": {},
   "outputs": [
    {
     "name": "stdout",
     "output_type": "stream",
     "text": [
      "<class 'pandas.core.frame.DataFrame'>\n",
      "Float64Index: 363 entries, 40.0 to 400.0\n",
      "Columns: 8961 entries, (meal, 61.38461538461539) to (meal, 146.6086956521739)\n",
      "dtypes: float64(8961)\n",
      "memory usage: 24.8 MB\n",
      "None\n"
     ]
    }
   ],
   "source": [
    "pivFrame = pd.pivot_table(allData, index=[\"cgm\"], columns=[\"hr\"], values=[\"meal\"], aggfunc=np.sum)\n",
    "print(pivFrame.info())"
   ]
  },
  {
   "cell_type": "markdown",
   "metadata": {},
   "source": [
    "### Resampling Data\n",
    "Pandas allows for easy re-sampling of time series data. This is similar to groupby, but allows you to operate on time-stamps more easily.\n",
    "\n",
    "You can read [more details here](https://pandas.pydata.org/pandas-docs/stable/reference/api/pandas.DataFrame.resample.html) and [here](https://pandas.pydata.org/pandas-docs/stable/user_guide/timeseries.html#resampling)\n",
    "\n",
    "Here is a basic example:"
   ]
  },
  {
   "cell_type": "code",
   "execution_count": 264,
   "metadata": {},
   "outputs": [
    {
     "data": {
      "text/html": [
       "<div>\n",
       "<style scoped>\n",
       "    .dataframe tbody tr th:only-of-type {\n",
       "        vertical-align: middle;\n",
       "    }\n",
       "\n",
       "    .dataframe tbody tr th {\n",
       "        vertical-align: top;\n",
       "    }\n",
       "\n",
       "    .dataframe thead th {\n",
       "        text-align: right;\n",
       "    }\n",
       "</style>\n",
       "<table border=\"1\" class=\"dataframe\">\n",
       "  <thead>\n",
       "    <tr style=\"text-align: right;\">\n",
       "      <th></th>\n",
       "      <th>cgm</th>\n",
       "      <th>hr</th>\n",
       "      <th>meal</th>\n",
       "    </tr>\n",
       "    <tr>\n",
       "      <th>DT5</th>\n",
       "      <th></th>\n",
       "      <th></th>\n",
       "      <th></th>\n",
       "    </tr>\n",
       "  </thead>\n",
       "  <tbody>\n",
       "    <tr>\n",
       "      <th>2018-03-16 00:00:00</th>\n",
       "      <td>144.0</td>\n",
       "      <td>82.571429</td>\n",
       "      <td>0.0</td>\n",
       "    </tr>\n",
       "    <tr>\n",
       "      <th>2018-03-16 00:20:00</th>\n",
       "      <td>153.0</td>\n",
       "      <td>82.571429</td>\n",
       "      <td>0.0</td>\n",
       "    </tr>\n",
       "    <tr>\n",
       "      <th>2018-03-16 00:40:00</th>\n",
       "      <td>172.0</td>\n",
       "      <td>82.571429</td>\n",
       "      <td>0.0</td>\n",
       "    </tr>\n",
       "    <tr>\n",
       "      <th>2018-03-16 01:00:00</th>\n",
       "      <td>178.0</td>\n",
       "      <td>82.571429</td>\n",
       "      <td>0.0</td>\n",
       "    </tr>\n",
       "    <tr>\n",
       "      <th>2018-03-16 01:20:00</th>\n",
       "      <td>179.0</td>\n",
       "      <td>82.571429</td>\n",
       "      <td>0.0</td>\n",
       "    </tr>\n",
       "  </tbody>\n",
       "</table>\n",
       "</div>"
      ],
      "text/plain": [
       "                       cgm         hr  meal\n",
       "DT5                                        \n",
       "2018-03-16 00:00:00  144.0  82.571429   0.0\n",
       "2018-03-16 00:20:00  153.0  82.571429   0.0\n",
       "2018-03-16 00:40:00  172.0  82.571429   0.0\n",
       "2018-03-16 01:00:00  178.0  82.571429   0.0\n",
       "2018-03-16 01:20:00  179.0  82.571429   0.0"
      ]
     },
     "execution_count": 264,
     "metadata": {},
     "output_type": "execute_result"
    }
   ],
   "source": [
    "resampData = allData.resample('20Min').max()\n",
    "resampData.head()"
   ]
  },
  {
   "cell_type": "markdown",
   "metadata": {},
   "source": [
    "## 2.0 Relations in Data\n",
    "\n",
    "### Covariance\n",
    "You can easily take the covariance between variables using the numpy function `cov`. \n",
    "\n",
    "The result is a matrix where the diagonal of the matrix contains the covariance between each variable and itself. The other values in the matrix represent the covariance between the two variables.\n"
   ]
  },
  {
   "cell_type": "code",
   "execution_count": 25,
   "metadata": {},
   "outputs": [
    {
     "data": {
      "text/plain": [
       "array([[344.20302826, 263.2662733 ],\n",
       "       [263.2662733 , 245.45834983]])"
      ]
     },
     "execution_count": 25,
     "metadata": {},
     "output_type": "execute_result"
    }
   ],
   "source": [
    "np.cov(dataClean.maxTemp, dataClean.minTemp)"
   ]
  },
  {
   "cell_type": "markdown",
   "metadata": {},
   "source": [
    "### Correlation \n",
    "To get the correlation (pearson's correlation) we use the `personr` function from the `scipy.stats` module. We find high and low temperatures to be highly correlated (not surprising)"
   ]
  },
  {
   "cell_type": "code",
   "execution_count": 26,
   "metadata": {},
   "outputs": [
    {
     "name": "stdout",
     "output_type": "stream",
     "text": [
      "Pearsons correlation: 0.906\n"
     ]
    }
   ],
   "source": [
    "from scipy.stats import pearsonr\n",
    "\n",
    "corr, _ = pearsonr(dataClean.maxTemp, dataClean.minTemp)\n",
    "print('Pearsons correlation: %.3f' % corr)"
   ]
  },
  {
   "cell_type": "markdown",
   "metadata": {},
   "source": [
    "### Autocorrelation \n",
    "In order to get a sense of how correlated our data set is, we can take the correlation of each point with the point n-steps away from it. \n",
    "\n",
    "The autocorrelation function does just this, without us having to code a loop. It takes the correlation of each point in the data set, with respect to the point n-steps away from it (behind). \n",
    "\n",
    "Note, you can plot autocorrelation using the pandas module (function `pandas.plotting.autocorrelation_plot()`), but it is a very high level function which does not allow you to easily change parameters such as the number of lags shown. \n",
    "\n",
    "For this reason, we will use the `statsmodels` module, in particular the [time series analysis sub-module.](https://www.statsmodels.org/stable/tsa.html#)"
   ]
  },
  {
   "cell_type": "code",
   "execution_count": 27,
   "metadata": {},
   "outputs": [
    {
     "data": {
      "text/plain": [
       "<Figure size 640x480 with 1 Axes>"
      ]
     },
     "metadata": {},
     "output_type": "display_data"
    }
   ],
   "source": [
    "from matplotlib import pyplot as plt\n",
    "import statsmodels.tsa as tsa\n",
    "from statsmodels.graphics.tsaplots import plot_acf\n",
    "plot_acf(dataClean.maxTemp)\n",
    "\n",
    "plt.show()"
   ]
  },
  {
   "cell_type": "code",
   "execution_count": 28,
   "metadata": {},
   "outputs": [
    {
     "data": {
      "image/png": "[encoded data removed]",
      "text/plain": [
       "<Figure size 432x288 with 1 Axes>"
      ]
     },
     "metadata": {
      "needs_background": "light"
     },
     "output_type": "display_data"
    }
   ],
   "source": [
    "pd.plotting.autocorrelation_plot(dataClean.maxTemp)\n",
    "plt.show()"
   ]
  },
  {
   "cell_type": "markdown",
   "metadata": {},
   "source": [
    "The cone shows the 95% confidence interval, meaning that points outside of the cone are likely correlated. \n",
    "\n",
    "Exact values here are tough to see, so we can minimize to the first 100 points."
   ]
  },
  {
   "cell_type": "code",
   "execution_count": 29,
   "metadata": {},
   "outputs": [
    {
     "data": {
      "image/png": "[encoded data removed]",
      "text/plain": [
       "<Figure size 432x288 with 1 Axes>"
      ]
     },
     "metadata": {
      "needs_background": "light"
     },
     "output_type": "display_data"
    }
   ],
   "source": [
    "plot_acf(dataClean.maxTemp,lags=100)\n",
    "\n",
    "plt.show()"
   ]
  },
  {
   "cell_type": "code",
   "execution_count": 30,
   "metadata": {},
   "outputs": [
    {
     "data": {
      "image/png": "[encoded data removed]",
      "text/plain": [
       "<Figure size 432x288 with 1 Axes>"
      ]
     },
     "metadata": {
      "needs_background": "light"
     },
     "output_type": "display_data"
    }
   ],
   "source": [
    "plot_acf(dataClean.maxTemp,lags=365)\n",
    "\n",
    "plt.show()"
   ]
  },
  {
   "cell_type": "markdown",
   "metadata": {},
   "source": [
    "Note how difference our results look if we minimize the length of the trace. This highlights how this metric is highly dependent on your data & limited data can show every different results."
   ]
  },
  {
   "cell_type": "code",
   "execution_count": 31,
   "metadata": {},
   "outputs": [
    {
     "data": {
      "image/png": "[encoded data removed]",
      "text/plain": [
       "<Figure size 432x288 with 1 Axes>"
      ]
     },
     "metadata": {
      "needs_background": "light"
     },
     "output_type": "display_data"
    }
   ],
   "source": [
    "plot_acf(dataClean.maxTemp[0:100])\n",
    "plt.show()"
   ]
  },
  {
   "cell_type": "code",
   "execution_count": 32,
   "metadata": {},
   "outputs": [
    {
     "data": {
      "image/png": "[encoded data removed]",
      "text/plain": [
       "<Figure size 432x288 with 1 Axes>"
      ]
     },
     "metadata": {
      "needs_background": "light"
     },
     "output_type": "display_data"
    },
    {
     "data": {
      "text/plain": [
       "<Figure size 432x288 with 0 Axes>"
      ]
     },
     "metadata": {},
     "output_type": "display_data"
    }
   ],
   "source": [
    "plot_acf(dataClean.maxTemp[400:500])\n",
    "\n",
    "fig=plt.figure()"
   ]
  },
  {
   "cell_type": "markdown",
   "metadata": {},
   "source": [
    "### Partial Autocorrelation\n",
    "The autocorrelation for an observation and and the n-lag can result from a mutual linear dependence on other variables, direct or indirect correlation which results in confounding. These indirect correlations are a linear function of the correlation of the observation, with observations at 1-lag to (n-1)-lag time steps.\n",
    "\n",
    "It is these indirect correlations that the partial autocorrelation function seeks to remove. \n",
    "\n",
    "Specifically, the partial autocorrelation at lag k is the correlation that results after removing the effect of any correlations due to the terms at shorter lags.\n",
    "\n",
    "We can use the `plot_pacf` function from the same `statsmodels.graphics.tsaplots` module we found the autocorrelation function in.\n"
   ]
  },
  {
   "cell_type": "code",
   "execution_count": 33,
   "metadata": {},
   "outputs": [
    {
     "data": {
      "image/png": "[encoded data removed]",
      "text/plain": [
       "<Figure size 432x288 with 1 Axes>"
      ]
     },
     "metadata": {
      "needs_background": "light"
     },
     "output_type": "display_data"
    }
   ],
   "source": [
    "from statsmodels.graphics.tsaplots import plot_pacf\n",
    "\n",
    "plot_pacf(dataClean.maxTemp, lags=100)\n",
    "\n",
    "plt.show()"
   ]
  },
  {
   "cell_type": "markdown",
   "metadata": {},
   "source": [
    "We want to look for the last point above the blue confidence interval. \n",
    "\n",
    "Notice how only about 10 points become important now. "
   ]
  },
  {
   "cell_type": "markdown",
   "metadata": {},
   "source": [
    "## Using ACF and PACF in modeling\n",
    "\n",
    "ACF and PACF become useful when we are considering modeling approaches, in particular the use of autoregressive and moving average models (or the combined ARMA model). \n",
    "\n",
    "For these models, the theoretical ACF and PACF of each model is know:\n",
    "\n",
    "\n",
    "| Conditional Mean Model | ACF                   | PACF                  |\n",
    "|:----------------------:|:---------------------:|:---------------------:|\n",
    "| AR(p)                  | Tails off gradually   | Cuts off after p lags |\n",
    "| MA(q)                  | Cuts off after q lags | Tails off gradually   |\n",
    "| ARMA(p,q)              | Tails off gradually   | Tails off gradually   |\n",
    "\n",
    "We can see that an AR model would work well for creating a model of daily temps. \n",
    "\n",
    "But how do we use the ACF and PACF in these models?\n",
    "\n",
    "If the data is generated by an autoregressive process of order p, the values of the sample partial autocorrelation sequence for lags greater than p follow a normal distribution `N(0,1/N)`, where N is the length of the time series.\n",
    "\n",
    "We can look at PACF more closely for the max temp example."
   ]
  },
  {
   "cell_type": "code",
   "execution_count": 34,
   "metadata": {},
   "outputs": [
    {
     "data": {
      "image/png": "[encoded data removed]",
      "text/plain": [
       "<Figure size 432x288 with 1 Axes>"
      ]
     },
     "metadata": {
      "needs_background": "light"
     },
     "output_type": "display_data"
    }
   ],
   "source": [
    "plot_pacf(dataClean.maxTemp, lags=50)\n",
    "\n",
    "plt.show()"
   ]
  },
  {
   "cell_type": "markdown",
   "metadata": {},
   "source": [
    "Let's try with 4 lags, and print the AIC and  BIC for the resultant model. \n",
    "\n",
    "Each of these information criteria are penalized likelihood criteria, where the models are penalized for overfitting (too many parameters).\n",
    "\n",
    "if L is the max value of the likelihood function of the model ([read more about max likelihood here](https://online.stat.psu.edu/stat414/node/191/)), then: \n",
    "\n",
    "- AIC = 2k-2ln(L) \n",
    "- BIC = ln(n)k-2ln(L)\n",
    "\n",
    "Here n is the number of observations, and k is the number of parameters in the model.\n",
    "\n",
    "In general, AIC and BIC are just metrics which can be useful in model selection but will not give a definite answer. \n",
    "[You can read more here](https://www.methodology.psu.edu/resources/AIC-vs-BIC/)"
   ]
  },
  {
   "cell_type": "code",
   "execution_count": 41,
   "metadata": {},
   "outputs": [
    {
     "name": "stdout",
     "output_type": "stream",
     "text": [
      "AIC: 4.206, BIC: 4.216\n",
      "intercept     5.094335\n",
      "maxTemp.L1    0.874853\n",
      "maxTemp.L2   -0.146657\n",
      "maxTemp.L3    0.069874\n",
      "maxTemp.L4    0.124343\n",
      "dtype: float64\n"
     ]
    }
   ],
   "source": [
    "import statsmodels.api as sm\n",
    "from statsmodels.tsa.ar_model import AutoReg\n",
    "\n",
    "out = 'AIC: {0:0.3f}, BIC: {1:0.3f}'\n",
    "\n",
    "res = AutoReg(dataClean.maxTemp, lags=4).fit()\n",
    "print(out.format(res.aic, res.bic))\n",
    "\n",
    "#we can get the parameters too\n",
    "print(res.params)\n"
   ]
  },
  {
   "cell_type": "markdown",
   "metadata": {},
   "source": [
    "We can see the relative importance of each parameter by looking at the coefficients. \n",
    "\n",
    "Note L3 is pretty small, it was also not very significant in the PACF. \n",
    "\n",
    "Lets try with a bunch of lags, and evaluate the results"
   ]
  },
  {
   "cell_type": "code",
   "execution_count": 42,
   "metadata": {},
   "outputs": [
    {
     "name": "stdout",
     "output_type": "stream",
     "text": [
      "AIC: 4.173, BIC: 4.194\n",
      "intercept      3.365795\n",
      "maxTemp.L1     0.828191\n",
      "maxTemp.L2    -0.118965\n",
      "maxTemp.L4     0.103189\n",
      "maxTemp.L5    -0.013756\n",
      "maxTemp.L6     0.028704\n",
      "maxTemp.L7     0.010638\n",
      "maxTemp.L8     0.045049\n",
      "maxTemp.L9     0.027188\n",
      "maxTemp.L10    0.032255\n",
      "maxTemp.L30    0.006510\n",
      "dtype: float64\n"
     ]
    }
   ],
   "source": [
    "res = AutoReg(dataClean.maxTemp,lags=[1,2,4,5,6,7,8,9,10,30]).fit()\n",
    "\n",
    "print(out.format(res.aic, res.bic))\n",
    "print(res.params)"
   ]
  },
  {
   "cell_type": "markdown",
   "metadata": {},
   "source": [
    "Based on these results, AIC and BIC barely went down. \n",
    "I would pick a model with just the lags L1, L3, L4. But this is entirely up to you.\n",
    "\n",
    "There is a `ar_select_order` function, which can help you pick lags as well. We supply as inputs the max lag, as well as the information criteria to use ('aic', 'hqic', 'bic'}). BIC is standard. "
   ]
  },
  {
   "cell_type": "code",
   "execution_count": 43,
   "metadata": {},
   "outputs": [
    {
     "data": {
      "text/plain": [
       "array([1, 2, 3, 4, 5, 6, 7, 8, 9])"
      ]
     },
     "execution_count": 43,
     "metadata": {},
     "output_type": "execute_result"
    }
   ],
   "source": [
    "from statsmodels.tsa.ar_model import ar_select_order\n",
    "\n",
    "modOrd = ar_select_order(dataClean.maxTemp, maxlag = 30, ic='bic') \n",
    "\n",
    "modOrd.ar_lags"
   ]
  },
  {
   "cell_type": "code",
   "execution_count": 46,
   "metadata": {},
   "outputs": [
    {
     "data": {
      "text/plain": [
       "{(1, 2, 3, 4, 5, 6, 7, 8, 9): 4.1877833809095435,\n",
       " (1, 2, 3, 4, 5, 6, 7, 8): 4.188502736530902,\n",
       " (1, 2, 3, 4, 5, 6, 7, 8, 9, 10, 11): 4.188745650018009,\n",
       " (1, 2, 3, 4, 5, 6, 7, 8, 9, 10): 4.188925131351663,\n",
       " (1, 2, 3, 4, 5, 6, 7, 8, 9, 10, 11, 12): 4.189236393515314,\n",
       " (1, 2, 3, 4, 5, 6, 7, 8, 9, 10, 11, 12, 13, 14): 4.189477216221576,\n",
       " (1, 2, 3, 4, 5, 6, 7, 8, 9, 10, 11, 12, 13): 4.190847320482519,\n",
       " (1, 2, 3, 4, 5, 6, 7, 8, 9, 10, 11, 12, 13, 14, 15, 16): 4.1914995287058945,\n",
       " (1, 2, 3, 4, 5, 6, 7, 8, 9, 10, 11, 12, 13, 14, 15): 4.1915969968909925,\n",
       " (1,\n",
       "  2,\n",
       "  3,\n",
       "  4,\n",
       "  5,\n",
       "  6,\n",
       "  7,\n",
       "  8,\n",
       "  9,\n",
       "  10,\n",
       "  11,\n",
       "  12,\n",
       "  13,\n",
       "  14,\n",
       "  15,\n",
       "  16,\n",
       "  17): 4.193749947118868,\n",
       " (1, 2, 3, 4, 5, 6, 7): 4.19391908796782,\n",
       " (1,\n",
       "  2,\n",
       "  3,\n",
       "  4,\n",
       "  5,\n",
       "  6,\n",
       "  7,\n",
       "  8,\n",
       "  9,\n",
       "  10,\n",
       "  11,\n",
       "  12,\n",
       "  13,\n",
       "  14,\n",
       "  15,\n",
       "  16,\n",
       "  17,\n",
       "  18): 4.19400954403723,\n",
       " (1,\n",
       "  2,\n",
       "  3,\n",
       "  4,\n",
       "  5,\n",
       "  6,\n",
       "  7,\n",
       "  8,\n",
       "  9,\n",
       "  10,\n",
       "  11,\n",
       "  12,\n",
       "  13,\n",
       "  14,\n",
       "  15,\n",
       "  16,\n",
       "  17,\n",
       "  18,\n",
       "  19): 4.196251824702176,\n",
       " (1,\n",
       "  2,\n",
       "  3,\n",
       "  4,\n",
       "  5,\n",
       "  6,\n",
       "  7,\n",
       "  8,\n",
       "  9,\n",
       "  10,\n",
       "  11,\n",
       "  12,\n",
       "  13,\n",
       "  14,\n",
       "  15,\n",
       "  16,\n",
       "  17,\n",
       "  18,\n",
       "  19,\n",
       "  20): 4.196724580649838,\n",
       " (1, 2, 3, 4, 5, 6): 4.197496665568278,\n",
       " (1,\n",
       "  2,\n",
       "  3,\n",
       "  4,\n",
       "  5,\n",
       "  6,\n",
       "  7,\n",
       "  8,\n",
       "  9,\n",
       "  10,\n",
       "  11,\n",
       "  12,\n",
       "  13,\n",
       "  14,\n",
       "  15,\n",
       "  16,\n",
       "  17,\n",
       "  18,\n",
       "  19,\n",
       "  20,\n",
       "  21): 4.198935330666725,\n",
       " (1,\n",
       "  2,\n",
       "  3,\n",
       "  4,\n",
       "  5,\n",
       "  6,\n",
       "  7,\n",
       "  8,\n",
       "  9,\n",
       "  10,\n",
       "  11,\n",
       "  12,\n",
       "  13,\n",
       "  14,\n",
       "  15,\n",
       "  16,\n",
       "  17,\n",
       "  18,\n",
       "  19,\n",
       "  20,\n",
       "  21,\n",
       "  22): 4.200773045122169,\n",
       " (1,\n",
       "  2,\n",
       "  3,\n",
       "  4,\n",
       "  5,\n",
       "  6,\n",
       "  7,\n",
       "  8,\n",
       "  9,\n",
       "  10,\n",
       "  11,\n",
       "  12,\n",
       "  13,\n",
       "  14,\n",
       "  15,\n",
       "  16,\n",
       "  17,\n",
       "  18,\n",
       "  19,\n",
       "  20,\n",
       "  21,\n",
       "  22,\n",
       "  23): 4.202661891450806,\n",
       " (1, 2, 3, 4, 5): 4.202712569200156,\n",
       " (1, 2, 3, 4): 4.20480593133102,\n",
       " (1,\n",
       "  2,\n",
       "  3,\n",
       "  4,\n",
       "  5,\n",
       "  6,\n",
       "  7,\n",
       "  8,\n",
       "  9,\n",
       "  10,\n",
       "  11,\n",
       "  12,\n",
       "  13,\n",
       "  14,\n",
       "  15,\n",
       "  16,\n",
       "  17,\n",
       "  18,\n",
       "  19,\n",
       "  20,\n",
       "  21,\n",
       "  22,\n",
       "  23,\n",
       "  24): 4.204914264819866,\n",
       " (1,\n",
       "  2,\n",
       "  3,\n",
       "  4,\n",
       "  5,\n",
       "  6,\n",
       "  7,\n",
       "  8,\n",
       "  9,\n",
       "  10,\n",
       "  11,\n",
       "  12,\n",
       "  13,\n",
       "  14,\n",
       "  15,\n",
       "  16,\n",
       "  17,\n",
       "  18,\n",
       "  19,\n",
       "  20,\n",
       "  21,\n",
       "  22,\n",
       "  23,\n",
       "  24,\n",
       "  25): 4.206314448782359,\n",
       " (1,\n",
       "  2,\n",
       "  3,\n",
       "  4,\n",
       "  5,\n",
       "  6,\n",
       "  7,\n",
       "  8,\n",
       "  9,\n",
       "  10,\n",
       "  11,\n",
       "  12,\n",
       "  13,\n",
       "  14,\n",
       "  15,\n",
       "  16,\n",
       "  17,\n",
       "  18,\n",
       "  19,\n",
       "  20,\n",
       "  21,\n",
       "  22,\n",
       "  23,\n",
       "  24,\n",
       "  25,\n",
       "  26): 4.207854160935323,\n",
       " (1,\n",
       "  2,\n",
       "  3,\n",
       "  4,\n",
       "  5,\n",
       "  6,\n",
       "  7,\n",
       "  8,\n",
       "  9,\n",
       "  10,\n",
       "  11,\n",
       "  12,\n",
       "  13,\n",
       "  14,\n",
       "  15,\n",
       "  16,\n",
       "  17,\n",
       "  18,\n",
       "  19,\n",
       "  20,\n",
       "  21,\n",
       "  22,\n",
       "  23,\n",
       "  24,\n",
       "  25,\n",
       "  26,\n",
       "  27): 4.210100066948967,\n",
       " (1,\n",
       "  2,\n",
       "  3,\n",
       "  4,\n",
       "  5,\n",
       "  6,\n",
       "  7,\n",
       "  8,\n",
       "  9,\n",
       "  10,\n",
       "  11,\n",
       "  12,\n",
       "  13,\n",
       "  14,\n",
       "  15,\n",
       "  16,\n",
       "  17,\n",
       "  18,\n",
       "  19,\n",
       "  20,\n",
       "  21,\n",
       "  22,\n",
       "  23,\n",
       "  24,\n",
       "  25,\n",
       "  26,\n",
       "  27,\n",
       "  28,\n",
       "  29,\n",
       "  30): 4.211404703481209,\n",
       " (1,\n",
       "  2,\n",
       "  3,\n",
       "  4,\n",
       "  5,\n",
       "  6,\n",
       "  7,\n",
       "  8,\n",
       "  9,\n",
       "  10,\n",
       "  11,\n",
       "  12,\n",
       "  13,\n",
       "  14,\n",
       "  15,\n",
       "  16,\n",
       "  17,\n",
       "  18,\n",
       "  19,\n",
       "  20,\n",
       "  21,\n",
       "  22,\n",
       "  23,\n",
       "  24,\n",
       "  25,\n",
       "  26,\n",
       "  27,\n",
       "  28): 4.211935955031665,\n",
       " (1,\n",
       "  2,\n",
       "  3,\n",
       "  4,\n",
       "  5,\n",
       "  6,\n",
       "  7,\n",
       "  8,\n",
       "  9,\n",
       "  10,\n",
       "  11,\n",
       "  12,\n",
       "  13,\n",
       "  14,\n",
       "  15,\n",
       "  16,\n",
       "  17,\n",
       "  18,\n",
       "  19,\n",
       "  20,\n",
       "  21,\n",
       "  22,\n",
       "  23,\n",
       "  24,\n",
       "  25,\n",
       "  26,\n",
       "  27,\n",
       "  28,\n",
       "  29): 4.213082698276912,\n",
       " (1, 2, 3): 4.218114746260105,\n",
       " (1,): 4.247178884206958,\n",
       " (1, 2): 4.249432327241336,\n",
       " 0: 5.829828758844955}"
      ]
     },
     "execution_count": 46,
     "metadata": {},
     "output_type": "execute_result"
    }
   ],
   "source": [
    "modOrd.bic\n"
   ]
  },
  {
   "cell_type": "code",
   "execution_count": 57,
   "metadata": {},
   "outputs": [
    {
     "name": "stdout",
     "output_type": "stream",
     "text": [
      "AIC: 4.208, BIC: 4.217\n",
      "                            AutoReg Model Results                             \n",
      "==============================================================================\n",
      "Dep. Variable:                maxTemp   No. Observations:                 3668\n",
      "Model:              Restr. AutoReg(4)   Log Likelihood              -12903.416\n",
      "Method:               Conditional MLE   S.D. of innovations              8.189\n",
      "Date:                Sun, 01 Mar 2020   AIC                              4.208\n",
      "Time:                        19:32:22   BIC                              4.217\n",
      "Sample:                             4   HQIC                             4.211\n",
      "                                 3668                                         \n",
      "==============================================================================\n",
      "                 coef    std err          z      P>|z|      [0.025      0.975]\n",
      "------------------------------------------------------------------------------\n",
      "intercept      5.1607      0.532      9.699      0.000       4.118       6.204\n",
      "maxTemp.L1     0.8683      0.016     53.328      0.000       0.836       0.900\n",
      "maxTemp.L2    -0.1067      0.018     -5.960      0.000      -0.142      -0.072\n",
      "maxTemp.L4     0.1598      0.012     13.160      0.000       0.136       0.184\n",
      "                                    Roots                                    \n",
      "=============================================================================\n",
      "                  Real          Imaginary           Modulus         Frequency\n",
      "-----------------------------------------------------------------------------\n",
      "AR.1            1.0584           -0.0000j            1.0584           -0.0000\n",
      "AR.2            0.5404           -1.5724j            1.6627           -0.1973\n",
      "AR.3            0.5404           +1.5724j            1.6627            0.1973\n",
      "AR.4           -2.1392           -0.0000j            2.1392           -0.5000\n",
      "-----------------------------------------------------------------------------\n"
     ]
    },
    {
     "name": "stderr",
     "output_type": "stream",
     "text": [
      "/Users/taisakushner/anaconda3/lib/python3.6/site-packages/statsmodels/tsa/base/tsa_model.py:218: ValueWarning: A date index has been provided, but it has no associated frequency information and so will be ignored when e.g. forecasting.\n",
      "  ' ignored when e.g. forecasting.', ValueWarning)\n"
     ]
    }
   ],
   "source": [
    "res = AutoReg(dataClean.maxTemp,lags=[1,2,4]).fit()\n",
    "\n",
    "print(out.format(res.aic, res.bic))\n",
    "\n",
    "print(res.summary())"
   ]
  },
  {
   "cell_type": "code",
   "execution_count": 64,
   "metadata": {
    "scrolled": true
   },
   "outputs": [
    {
     "name": "stderr",
     "output_type": "stream",
     "text": [
      "No handles with labels found to put in legend.\n"
     ]
    },
    {
     "data": {
      "image/png": "[encoded data removed]",
      "text/plain": [
       "<Figure size 432x288 with 1 Axes>"
      ]
     },
     "metadata": {
      "needs_background": "light"
     },
     "output_type": "display_data"
    }
   ],
   "source": [
    "fig = res.plot_predict(300, 700)"
   ]
  },
  {
   "cell_type": "markdown",
   "metadata": {},
   "source": [
    "### Evaluating the Model\n",
    "We can consider how well the model fits to actual values, as well as patterns that exist in the residuals. \n",
    "\n",
    "First, lets find the residuals between the predicted and actual values, and plot them."
   ]
  },
  {
   "cell_type": "code",
   "execution_count": 81,
   "metadata": {},
   "outputs": [
    {
     "data": {
      "text/plain": [
       "<matplotlib.axes._subplots.AxesSubplot at 0x1c284f9c88>"
      ]
     },
     "execution_count": 81,
     "metadata": {},
     "output_type": "execute_result"
    },
    {
     "data": {
      "image/png": "[encoded data removed]",
      "text/plain": [
       "<Figure size 432x288 with 1 Axes>"
      ]
     },
     "metadata": {
      "needs_background": "light"
     },
     "output_type": "display_data"
    }
   ],
   "source": [
    "predVals = res.predict(300,700)\n",
    "Residuals = dataClean.maxTemp - predVals\n",
    "\n",
    "#now we can drop the NaN values\n",
    "Residuals.dropna(inplace=True)\n",
    "\n",
    "#and plot the residuals\n",
    "Residuals.plot.hist(bins=60)"
   ]
  },
  {
   "cell_type": "code",
   "execution_count": 83,
   "metadata": {},
   "outputs": [
    {
     "data": {
      "text/plain": [
       "<matplotlib.axes._subplots.AxesSubplot at 0x1c283d36a0>"
      ]
     },
     "execution_count": 83,
     "metadata": {},
     "output_type": "execute_result"
    },
    {
     "data": {
      "image/png": "[encoded data removed]",
      "text/plain": [
       "<Figure size 432x288 with 1 Axes>"
      ]
     },
     "metadata": {
      "needs_background": "light"
     },
     "output_type": "display_data"
    }
   ],
   "source": [
    "Residuals.plot()"
   ]
  },
  {
   "cell_type": "markdown",
   "metadata": {},
   "source": [
    "Next, let's evaluate the residuals. \n",
    "\n",
    "Are the residuals correlated in time? Are they correlated with some third (unmodeled) parameter?\n"
   ]
  },
  {
   "cell_type": "code",
   "execution_count": 265,
   "metadata": {},
   "outputs": [
    {
     "data": {
      "image/png": "[encoded data removed]",
      "text/plain": [
       "<Figure size 432x288 with 1 Axes>"
      ]
     },
     "metadata": {
      "needs_background": "light"
     },
     "output_type": "display_data"
    }
   ],
   "source": [
    "plot_pacf(Residuals, lags=50)\n",
    "\n",
    "plt.show()"
   ]
  },
  {
   "cell_type": "markdown",
   "metadata": {},
   "source": [
    "Nice! We don't have much correlation past the value & itself (to be expected).\n",
    "\n",
    "We can see if there are any patterns by month, date, if we had other (potentially leftout) variables, we could see if there are patterns between residuals and those variables. "
   ]
  },
  {
   "cell_type": "code",
   "execution_count": 270,
   "metadata": {},
   "outputs": [
    {
     "data": {
      "text/plain": [
       "date\n",
       "1980-11-30    11.034593\n",
       "1980-12-31    -0.660563\n",
       "1981-01-31    -1.893623\n",
       "1981-02-28    -0.254251\n",
       "1981-03-31    -0.888032\n",
       "1981-04-30     1.219430\n",
       "1981-05-31     0.095476\n",
       "1981-06-30     2.105402\n",
       "1981-07-31     1.763613\n",
       "1981-08-31     1.262060\n",
       "1981-09-30     0.541468\n",
       "1981-10-31    -1.089592\n",
       "1981-11-30    -1.223262\n",
       "1981-12-31    -1.278583\n",
       "1982-01-31    -3.015434\n",
       "Freq: M, dtype: float64"
      ]
     },
     "execution_count": 270,
     "metadata": {},
     "output_type": "execute_result"
    }
   ],
   "source": [
    "\n",
    "Residuals.resample('M').mean()"
   ]
  },
  {
   "cell_type": "code",
   "execution_count": 88,
   "metadata": {},
   "outputs": [
    {
     "name": "stderr",
     "output_type": "stream",
     "text": [
      "/Users/taisakushner/anaconda3/lib/python3.6/site-packages/statsmodels/tsa/base/tsa_model.py:218: ValueWarning: A date index has been provided, but it has no associated frequency information and so will be ignored when e.g. forecasting.\n",
      "  ' ignored when e.g. forecasting.', ValueWarning)\n"
     ]
    },
    {
     "name": "stdout",
     "output_type": "stream",
     "text": [
      "                              ARMA Model Results                              \n",
      "==============================================================================\n",
      "Dep. Variable:                maxTemp   No. Observations:                 3668\n",
      "Model:                     ARMA(3, 4)   Log Likelihood              -12848.217\n",
      "Method:                       css-mle   S.D. of innovations              8.030\n",
      "Date:                Sun, 01 Mar 2020   AIC                          25712.433\n",
      "Time:                        19:59:12   BIC                          25762.093\n",
      "Sample:                             0   HQIC                         25730.114\n",
      "                                                                              \n",
      "=================================================================================\n",
      "                    coef    std err          z      P>|z|      [0.025      0.975]\n",
      "---------------------------------------------------------------------------------\n",
      "ar.L1.maxTemp     1.0881      0.022     49.198      0.000       1.045       1.131\n",
      "ar.L2.maxTemp     0.1394      0.081      1.717      0.086      -0.020       0.298\n",
      "ar.L3.maxTemp    -0.2278      0.075     -3.041      0.002      -0.375      -0.081\n",
      "ma.L1.maxTemp    -0.2549      0.028     -9.250      0.000      -0.309      -0.201\n",
      "ma.L2.maxTemp    -0.5153      0.076     -6.814      0.000      -0.664      -0.367\n",
      "ma.L3.maxTemp    -0.1025      0.028     -3.702      0.000      -0.157      -0.048\n",
      "ma.L4.maxTemp     0.0434      0.034      1.281      0.200      -0.023       0.110\n",
      "                                    Roots                                    \n",
      "=============================================================================\n",
      "                  Real          Imaginary           Modulus         Frequency\n",
      "-----------------------------------------------------------------------------\n",
      "AR.1           -2.2979           +0.0000j            2.2979            0.5000\n",
      "AR.2            1.0006           +0.0000j            1.0006            0.0000\n",
      "AR.3            1.9091           +0.0000j            1.9091            0.0000\n",
      "MA.1            1.1151           -0.0000j            1.1151           -0.0000\n",
      "MA.2           -1.8038           -1.0003j            2.0626           -0.4194\n",
      "MA.3           -1.8038           +1.0003j            2.0626            0.4194\n",
      "MA.4            4.8522           -0.0000j            4.8522           -0.0000\n",
      "-----------------------------------------------------------------------------\n"
     ]
    }
   ],
   "source": [
    "arma_mod = sm.tsa.ARMA(dataClean.maxTemp, order=(3,4))\n",
    "arma_res = arma_mod.fit(trend='c', disp=-1) \n",
    "#trend 'c' means we want a constant, 'nc' means no constant. disp < 0 means no output\n",
    "\n",
    "print(arma_res.summary())"
   ]
  },
  {
   "cell_type": "markdown",
   "metadata": {},
   "source": [
    "We can plot the model prediction versus actual values:"
   ]
  },
  {
   "cell_type": "code",
   "execution_count": 89,
   "metadata": {},
   "outputs": [
    {
     "data": {
      "image/png": "[encoded data removed]",
      "text/plain": [
       "<Figure size 720x576 with 1 Axes>"
      ]
     },
     "metadata": {
      "needs_background": "light"
     },
     "output_type": "display_data"
    }
   ],
   "source": [
    "fig, ax = plt.subplots(figsize=(10,8))\n",
    "fig = arma_res.plot_predict(start=300, end=700, ax=ax)\n",
    "legend = ax.legend(loc='upper left')\n",
    "\n"
   ]
  },
  {
   "cell_type": "markdown",
   "metadata": {},
   "source": [
    "Note how the smoothing (moving average) serves to temper extreme values."
   ]
  },
  {
   "cell_type": "code",
   "execution_count": 146,
   "metadata": {},
   "outputs": [
    {
     "name": "stdout",
     "output_type": "stream",
     "text": [
      "              Id  value\n",
      "time                   \n",
      "3/16/18 0:04   1    131\n",
      "3/16/18 0:09   2    138\n",
      "3/16/18 0:14   3    144\n",
      "3/16/18 0:19   4    152\n",
      "3/16/18 0:24   5    151\n",
      "              Id  value\n",
      "time                   \n",
      "3/16/18 0:04   1    131\n",
      "3/16/18 0:34   7    153\n",
      "3/16/18 1:04  13    177\n",
      "3/16/18 1:34  19    176\n",
      "3/16/18 2:04  25    166\n"
     ]
    }
   ],
   "source": [
    "cgm30 = cgm.iloc[::6, :]\n",
    "\n",
    "print(cgm.head())\n",
    "print(cgm30.head())"
   ]
  },
  {
   "cell_type": "code",
   "execution_count": 147,
   "metadata": {},
   "outputs": [
    {
     "data": {
      "image/png": "[encoded data removed]",
      "text/plain": [
       "<Figure size 432x288 with 1 Axes>"
      ]
     },
     "metadata": {
      "needs_background": "light"
     },
     "output_type": "display_data"
    }
   ],
   "source": [
    "plot_pacf(cgm30.value, lags=50)\n",
    "plt.show()"
   ]
  },
  {
   "cell_type": "code",
   "execution_count": 149,
   "metadata": {},
   "outputs": [
    {
     "name": "stderr",
     "output_type": "stream",
     "text": [
      "/Users/taisakushner/anaconda3/lib/python3.6/site-packages/statsmodels/tsa/base/tsa_model.py:218: ValueWarning: A date index has been provided, but it has no associated frequency information and so will be ignored when e.g. forecasting.\n",
      "  ' ignored when e.g. forecasting.', ValueWarning)\n"
     ]
    },
    {
     "name": "stdout",
     "output_type": "stream",
     "text": [
      "                              ARMA Model Results                              \n",
      "==============================================================================\n",
      "Dep. Variable:                  value   No. Observations:                 2606\n",
      "Model:                     ARMA(3, 1)   Log Likelihood              -11908.510\n",
      "Method:                       css-mle   S.D. of innovations             23.344\n",
      "Date:                Sun, 01 Mar 2020   AIC                          23829.020\n",
      "Time:                        20:57:04   BIC                          23864.213\n",
      "Sample:                             0   HQIC                         23841.770\n",
      "                                                                              \n",
      "===============================================================================\n",
      "                  coef    std err          z      P>|z|      [0.025      0.975]\n",
      "-------------------------------------------------------------------------------\n",
      "const         156.1031      2.323     67.186      0.000     151.549     160.657\n",
      "ar.L1.value     0.4362      0.107      4.080      0.000       0.227       0.646\n",
      "ar.L2.value     0.6131      0.132      4.658      0.000       0.355       0.871\n",
      "ar.L3.value    -0.4095      0.049     -8.419      0.000      -0.505      -0.314\n",
      "ma.L1.value     0.8312      0.108      7.686      0.000       0.619       1.043\n",
      "                                    Roots                                    \n",
      "=============================================================================\n",
      "                  Real          Imaginary           Modulus         Frequency\n",
      "-----------------------------------------------------------------------------\n",
      "AR.1           -1.1756           -0.0000j            1.1756           -0.5000\n",
      "AR.2            1.3365           -0.5395j            1.4413           -0.0611\n",
      "AR.3            1.3365           +0.5395j            1.4413            0.0611\n",
      "MA.1           -1.2030           +0.0000j            1.2030            0.5000\n",
      "-----------------------------------------------------------------------------\n"
     ]
    }
   ],
   "source": [
    "arma_mod = sm.tsa.ARMA(cgm30.value, order=(3,1))\n",
    "arma_res = arma_mod.fit(trend='c', disp=-1)\n",
    "print(arma_res.summary())"
   ]
  },
  {
   "cell_type": "code",
   "execution_count": null,
   "metadata": {},
   "outputs": [],
   "source": []
  }
 ],
 "metadata": {
  "kernelspec": {
   "display_name": "Python 3",
   "language": "python",
   "name": "python3"
  },
  "language_info": {
   "codemirror_mode": {
    "name": "ipython",
    "version": 3
   },
   "file_extension": ".py",
   "mimetype": "text/x-python",
   "name": "python",
   "nbconvert_exporter": "python",
   "pygments_lexer": "ipython3",
   "version": "3.6.6"
  }
 },
 "nbformat": 4,
 "nbformat_minor": 2
}
